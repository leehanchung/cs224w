{
  "nbformat": 4,
  "nbformat_minor": 0,
  "metadata": {
    "colab": {
      "name": "XCS224W_Colab5.ipynb",
      "provenance": [],
      "collapsed_sections": [],
      "machine_shape": "hm",
      "include_colab_link": true
    },
    "kernelspec": {
      "display_name": "Python 3",
      "language": "python",
      "name": "python3"
    },
    "language_info": {
      "codemirror_mode": {
        "name": "ipython",
        "version": 3
      },
      "file_extension": ".py",
      "mimetype": "text/x-python",
      "name": "python",
      "nbconvert_exporter": "python",
      "pygments_lexer": "ipython3",
      "version": "3.7.3"
    },
    "accelerator": "GPU"
  },
  "cells": [
    {
      "cell_type": "markdown",
      "metadata": {
        "id": "view-in-github",
        "colab_type": "text"
      },
      "source": [
        "<a href=\"https://colab.research.google.com/github/leehanchung/cs224w/blob/main/notebooks/XCS224W_Colab5.ipynb\" target=\"_parent\"><img src=\"https://colab.research.google.com/assets/colab-badge.svg\" alt=\"Open In Colab\"/></a>"
      ]
    },
    {
      "cell_type": "markdown",
      "metadata": {
        "id": "XuXWJLEm2UWS"
      },
      "source": [
        "# **CS224W - Colab 5**"
      ]
    },
    {
      "cell_type": "markdown",
      "metadata": {
        "id": "8gzsP50bF6Gb"
      },
      "source": [
        "In this final Colab we will experiment with advanced topics in GNNs. Specifically, we will look at different techniques for scaling up GNNs using PyTorch Geometric, DeepSNAP and NetworkX. \n",
        "\n",
        "First, we will work with PyTorch Geometric's `NeighborSampler` to scale up training and testing on the OGB `arxiv` dataset.\n",
        "\n",
        "Then, using DeepSNAP and NetworkX, we will implement our own simplified version of `NeighborSampler` and run experiments with different sampling ratios on the Cora graph.\n",
        "\n",
        "Lastly, we will partition the Cora graph into clusters by using different partition algorithms and then train the models using a vanilla Cluster-GCN.\n",
        "\n",
        "**Note**: Make sure to **sequentially run all the cells in each section**, so that the intermediate variables / packages will carry over to the next cell"
      ]
    },
    {
      "cell_type": "markdown",
      "metadata": {
        "id": "MSaetj53YnT6"
      },
      "source": [
        "# Device\n",
        "You likely will want to us a GPU for this Colab.\n",
        "\n",
        "Please click `Runtime` and then `Change runtime type`. Then set the `hardware accelerator` to **GPU**."
      ]
    },
    {
      "cell_type": "markdown",
      "metadata": {
        "id": "67gOQITlCNQi"
      },
      "source": [
        "# Installation"
      ]
    },
    {
      "cell_type": "code",
      "metadata": {
        "id": "J_m9l6OYCQZP",
        "colab": {
          "base_uri": "https://localhost:8080/"
        },
        "outputId": "a22adb73-7a5d-4acd-b31c-4d82e45fb602"
      },
      "source": [
        "# Install torch geometric\n",
        "import os\n",
        "if 'IS_GRADESCOPE_ENV' not in os.environ:\n",
        "  !pip install torch-scatter -f https://pytorch-geometric.com/whl/torch-1.9.0+cu111.html\n",
        "  !pip install torch-sparse -f https://pytorch-geometric.com/whl/torch-1.9.0+cu111.html\n",
        "  !pip install torch-geometric\n",
        "  !pip install -q ogb\n",
        "  !pip install -q git+https://github.com/snap-stanford/deepsnap.git\n"
      ],
      "execution_count": 1,
      "outputs": [
        {
          "output_type": "stream",
          "name": "stdout",
          "text": [
            "Looking in links: https://pytorch-geometric.com/whl/torch-1.9.0+cu111.html\n",
            "Collecting torch-scatter\n",
            "  Downloading https://data.pyg.org/whl/torch-1.9.0%2Bcu111/torch_scatter-2.0.9-cp37-cp37m-linux_x86_64.whl (10.4 MB)\n",
            "\u001b[K     |████████████████████████████████| 10.4 MB 5.2 MB/s \n",
            "\u001b[?25hInstalling collected packages: torch-scatter\n",
            "Successfully installed torch-scatter-2.0.9\n",
            "Looking in links: https://pytorch-geometric.com/whl/torch-1.9.0+cu111.html\n",
            "Collecting torch-sparse\n",
            "  Downloading https://data.pyg.org/whl/torch-1.9.0%2Bcu111/torch_sparse-0.6.12-cp37-cp37m-linux_x86_64.whl (3.7 MB)\n",
            "\u001b[K     |████████████████████████████████| 3.7 MB 5.0 MB/s \n",
            "\u001b[?25hRequirement already satisfied: scipy in /usr/local/lib/python3.7/dist-packages (from torch-sparse) (1.4.1)\n",
            "Requirement already satisfied: numpy>=1.13.3 in /usr/local/lib/python3.7/dist-packages (from scipy->torch-sparse) (1.19.5)\n",
            "Installing collected packages: torch-sparse\n",
            "Successfully installed torch-sparse-0.6.12\n",
            "Collecting torch-geometric\n",
            "  Downloading torch_geometric-2.0.2.tar.gz (325 kB)\n",
            "\u001b[K     |████████████████████████████████| 325 kB 5.2 MB/s \n",
            "\u001b[?25hRequirement already satisfied: numpy in /usr/local/lib/python3.7/dist-packages (from torch-geometric) (1.19.5)\n",
            "Requirement already satisfied: tqdm in /usr/local/lib/python3.7/dist-packages (from torch-geometric) (4.62.3)\n",
            "Requirement already satisfied: scipy in /usr/local/lib/python3.7/dist-packages (from torch-geometric) (1.4.1)\n",
            "Requirement already satisfied: networkx in /usr/local/lib/python3.7/dist-packages (from torch-geometric) (2.6.3)\n",
            "Requirement already satisfied: scikit-learn in /usr/local/lib/python3.7/dist-packages (from torch-geometric) (0.22.2.post1)\n",
            "Requirement already satisfied: requests in /usr/local/lib/python3.7/dist-packages (from torch-geometric) (2.23.0)\n",
            "Requirement already satisfied: pandas in /usr/local/lib/python3.7/dist-packages (from torch-geometric) (1.1.5)\n",
            "Collecting rdflib\n",
            "  Downloading rdflib-6.0.2-py3-none-any.whl (407 kB)\n",
            "\u001b[K     |████████████████████████████████| 407 kB 39.1 MB/s \n",
            "\u001b[?25hRequirement already satisfied: googledrivedownloader in /usr/local/lib/python3.7/dist-packages (from torch-geometric) (0.4)\n",
            "Requirement already satisfied: jinja2 in /usr/local/lib/python3.7/dist-packages (from torch-geometric) (2.11.3)\n",
            "Requirement already satisfied: pyparsing in /usr/local/lib/python3.7/dist-packages (from torch-geometric) (2.4.7)\n",
            "Collecting yacs\n",
            "  Downloading yacs-0.1.8-py3-none-any.whl (14 kB)\n",
            "Requirement already satisfied: PyYAML in /usr/local/lib/python3.7/dist-packages (from torch-geometric) (3.13)\n",
            "Requirement already satisfied: MarkupSafe>=0.23 in /usr/local/lib/python3.7/dist-packages (from jinja2->torch-geometric) (2.0.1)\n",
            "Requirement already satisfied: python-dateutil>=2.7.3 in /usr/local/lib/python3.7/dist-packages (from pandas->torch-geometric) (2.8.2)\n",
            "Requirement already satisfied: pytz>=2017.2 in /usr/local/lib/python3.7/dist-packages (from pandas->torch-geometric) (2018.9)\n",
            "Requirement already satisfied: six>=1.5 in /usr/local/lib/python3.7/dist-packages (from python-dateutil>=2.7.3->pandas->torch-geometric) (1.15.0)\n",
            "Collecting isodate\n",
            "  Downloading isodate-0.6.0-py2.py3-none-any.whl (45 kB)\n",
            "\u001b[K     |████████████████████████████████| 45 kB 3.5 MB/s \n",
            "\u001b[?25hRequirement already satisfied: setuptools in /usr/local/lib/python3.7/dist-packages (from rdflib->torch-geometric) (57.4.0)\n",
            "Requirement already satisfied: idna<3,>=2.5 in /usr/local/lib/python3.7/dist-packages (from requests->torch-geometric) (2.10)\n",
            "Requirement already satisfied: urllib3!=1.25.0,!=1.25.1,<1.26,>=1.21.1 in /usr/local/lib/python3.7/dist-packages (from requests->torch-geometric) (1.24.3)\n",
            "Requirement already satisfied: chardet<4,>=3.0.2 in /usr/local/lib/python3.7/dist-packages (from requests->torch-geometric) (3.0.4)\n",
            "Requirement already satisfied: certifi>=2017.4.17 in /usr/local/lib/python3.7/dist-packages (from requests->torch-geometric) (2021.5.30)\n",
            "Requirement already satisfied: joblib>=0.11 in /usr/local/lib/python3.7/dist-packages (from scikit-learn->torch-geometric) (1.0.1)\n",
            "Building wheels for collected packages: torch-geometric\n",
            "  Building wheel for torch-geometric (setup.py) ... \u001b[?25l\u001b[?25hdone\n",
            "  Created wheel for torch-geometric: filename=torch_geometric-2.0.2-py3-none-any.whl size=535570 sha256=439a15097bf151e5dcd457a1f376828d1feab405690b8cefadbd6a24ea06ee7c\n",
            "  Stored in directory: /root/.cache/pip/wheels/3f/08/13/2321517088bb2e95bfd0e45033bb9c923189e5b2078e0be4ef\n",
            "Successfully built torch-geometric\n",
            "Installing collected packages: isodate, yacs, rdflib, torch-geometric\n",
            "Successfully installed isodate-0.6.0 rdflib-6.0.2 torch-geometric-2.0.2 yacs-0.1.8\n",
            "\u001b[K     |████████████████████████████████| 78 kB 3.5 MB/s \n",
            "\u001b[?25h  Building wheel for littleutils (setup.py) ... \u001b[?25l\u001b[?25hdone\n",
            "  Building wheel for deepsnap (setup.py) ... \u001b[?25l\u001b[?25hdone\n"
          ]
        }
      ]
    },
    {
      "cell_type": "code",
      "metadata": {
        "id": "PRfgbfTjCRD_",
        "colab": {
          "base_uri": "https://localhost:8080/",
          "height": 36
        },
        "outputId": "8da2484b-8419-4915-bc16-96c3dffa18b2"
      },
      "source": [
        "import torch_geometric\n",
        "torch_geometric.__version__"
      ],
      "execution_count": 2,
      "outputs": [
        {
          "output_type": "execute_result",
          "data": {
            "application/vnd.google.colaboratory.intrinsic+json": {
              "type": "string"
            },
            "text/plain": [
              "'2.0.2'"
            ]
          },
          "metadata": {},
          "execution_count": 2
        }
      ]
    },
    {
      "cell_type": "markdown",
      "metadata": {
        "id": "SxkYLgxAOxz7"
      },
      "source": [
        "# 1) Neighbor Sampling\n",
        "\n",
        "Neighbor Sampling, originally proposed in **GraphSAGE** ([Hamilton et al. (2017)](https://arxiv.org/abs/1706.02216)), is a representative method to scale up GNNs. As we learned in lecture, rather than loading the entire graph into memory for each training loop, we can instead sample a mini-batch of the nodes we want to embed and **only** load the K-hop graph neighborhoods needed to embed these nodes. In this way we take advantage of the fact that the embedding of a node u only depends on its K-hop neighborhood. To further reduce the memory footprint and computational cost, we can choose to sample only a subset of a node's neighborhood during message passing and aggregation."
      ]
    },
    {
      "cell_type": "markdown",
      "metadata": {
        "id": "Kho6SHUVO1ny"
      },
      "source": [
        "## Setup"
      ]
    },
    {
      "cell_type": "code",
      "metadata": {
        "id": "X1WJLGKsOx_k"
      },
      "source": [
        "import copy\n",
        "import torch\n",
        "import torch.nn.functional as F\n",
        "import torch_geometric.transforms as T\n",
        "\n",
        "from torch_geometric.nn import SAGEConv\n",
        "from torch_geometric.loader import NeighborSampler\n",
        "from ogb.nodeproppred import PygNodePropPredDataset, Evaluator"
      ],
      "execution_count": 3,
      "outputs": []
    },
    {
      "cell_type": "markdown",
      "metadata": {
        "id": "UKqZWqRbO7km"
      },
      "source": [
        "## PyTorch Geometric Neighbor Sampler\n",
        "\n",
        "PyTorch Geometric has implemented Neighbor Samplinging through the [NeighborSampler](https://pytorch-geometric.readthedocs.io/en/latest/modules/loader.html#torch_geometric.loader.NeighborSampler) class. \n",
        "Neighbor sampling is based on building a node’s computation graph without storing irrelevant information for a given node, thus, making it more efficient. Each node produces a single computation graph, where for each node in a k-hop neighborhood, at most, $H_k$ neighbors are randomly sampled. Each node's  computation graph will therefore involve $\\prod^K_{k=1} H_k$ leaf nodes for a K-layer GNN. The successive layers of each node's computation graph can be conceptualized as bi-partite graphs that represent each layer of message passing in the GNN as shown in figure below. The blue (or black) dots are source nodes residing at layer $k-1$, while the red dots represent target nodes at subsequent layer $k$.  It is important to stress the target nodes that are embedd in each layer are the final nodes in the left hand side of the bi-partite graph. Node computation graphs are combined when subsequently forming a batch. If you'd like to learn more about information on neighborhood sampling, this\n",
        "**[blog](https://towardsdatascience.com/sampling-large-graphs-in-pytorch-geometric-97a6119c41f9)** provides an excellent description.\n",
        "\n",
        "![img]( https://drive.google.com/uc?export=view&id=1QqcrEsN-HpSHgwHiOD4Dh6yIawZh0Pgj)\n",
        "\n",
        "\n",
        "**PyG Docs**\n",
        "\n",
        "The neighbor sampler from the “Inductive Representation Learning on Large Graphs” paper, which allows for mini-batch training of GNNs on large-scale graphs where full-batch training is not feasible.\n",
        "\n",
        "Given a GNN with  layers and a specific mini-batch of nodes node_idx for which we want to compute embeddings, this module iteratively samples neighbors and constructs bipartite graphs that simulate the actual computation flow of GNNs.\n",
        "\n",
        "More specifically, sizes denotes how much neighbors we want to sample for each node in each layer. This module then takes in these sizes and iteratively samples sizes[l] for each node involved in layer l. In the next layer, sampling is repeated for the union of nodes that were already encountered. The actual computation graphs are then returned in reverse-mode, meaning that we pass messages from a larger set of nodes to a smaller one, until we reach the nodes for which we originally wanted to compute embeddings.\n",
        "\n",
        "Hence, an item returned by NeighborSampler holds the current batch_size, the IDs n_id of all nodes involved in the computation, and a list of bipartite graph objects via the tuple (edge_index, e_id, size), where edge_index represents the bipartite edges between source and target nodes, e_id denotes the IDs of original edges in the full graph, and size holds the shape of the bipartite graph. For each bipartite graph, target nodes are also included at the beginning of the list of source nodes so that one can easily apply skip-connections or add self-loops.\n",
        "\n",
        "\n",
        "If you are interested in memory-efficient aggregations, please refer to PyG's [Memory-Efficient Aggregations](https://pytorch-geometric.readthedocs.io/en/latest/notes/sparse_tensor.html).  Following is an example that uses the Neighbor Sampling method on training the OGB `arxiv` dataset. "
      ]
    },
    {
      "cell_type": "code",
      "metadata": {
        "id": "nWlyStlRO6_u",
        "colab": {
          "base_uri": "https://localhost:8080/"
        },
        "outputId": "50a07b87-236b-4195-ecfd-411a6435e4e7"
      },
      "source": [
        "if 'IS_GRADESCOPE_ENV' not in os.environ:\n",
        "  dataset_name = 'ogbn-arxiv'\n",
        "  dataset = PygNodePropPredDataset(name=dataset_name,\n",
        "                                  transform=T.ToSparseTensor())\n",
        "  data = dataset[0]\n",
        "  data.adj_t = data.adj_t.to_symmetric()\n",
        "  device = 'cuda' if torch.cuda.is_available() else 'cpu'\n",
        "\n",
        "  print('Device: {}'.format(device))\n",
        "\n",
        "  data = data.to(device)\n",
        "  split_idx = dataset.get_idx_split()\n",
        "  train_idx = split_idx['train'].to(device)\n",
        "\n",
        "  sampled_subgraph_batch_loader = None\n",
        "  full_subgraph_loader = None\n",
        "  \n",
        "  ############# Your code here ############\n",
        "  ## (~2 line of code)\n",
        "  ## Note:\n",
        "  ## 1. Construct the NeighborSampler `sampled_subgraph_batch_loader`. \n",
        "  ##    Use a batch size of 4096, turn shuffle on, and only \n",
        "  ##    use train_idx nodes to create mini-batches. During sampling,\n",
        "  ##    sample up to 10 neighbors in layer one and 5 neighbors in layer 2.\n",
        "  ## 2. Construct the NeighborSampler `full_subgraph_loader`. \n",
        "  ##    Use a batch size of 4096 and turn shuffle off. Sample all neighbors\n",
        "  ##    for only ONE layer and consider all nodes for sampling mini-batches!\n",
        "  ##    We use this loader for the inference / test phase of our model. In the\n",
        "  ##    inference function we will why we only need to sample complete\n",
        "  ##    1-hop neighborhoods.\n",
        "  ## 3. Look at the NeighborSampler documentation to figure out which \n",
        "  ##    parameters you need to set:\n",
        "  ##    https://pytorch-geometric.readthedocs.io/en/latest/modules/loader.html#torch_geometric.loader.NeighborSampler\n",
        "  sampled_subgraph_batch_loader = NeighborSampler(\n",
        "      data.adj_t,\n",
        "      node_idx=train_idx,\n",
        "      sizes=[10, 5],\n",
        "      batch_size=4096,\n",
        "      shuffle=True,\n",
        "      num_workers=2,\n",
        "  )\n",
        "  full_subgraph_loader = NeighborSampler(\n",
        "      data.adj_t,\n",
        "      node_idx=None,\n",
        "      sizes=[-1],\n",
        "      batch_size=4096,\n",
        "      shuffle=False,\n",
        "      num_workers=2,\n",
        "  )\n",
        "  #################################################################################\n",
        "\n",
        "  evaluator = Evaluator(name='ogbn-arxiv')"
      ],
      "execution_count": 4,
      "outputs": [
        {
          "output_type": "stream",
          "name": "stdout",
          "text": [
            "Downloading http://snap.stanford.edu/ogb/data/nodeproppred/arxiv.zip\n"
          ]
        },
        {
          "output_type": "stream",
          "name": "stderr",
          "text": [
            "Downloaded 0.08 GB: 100%|██████████| 81/81 [00:02<00:00, 39.00it/s]\n"
          ]
        },
        {
          "output_type": "stream",
          "name": "stdout",
          "text": [
            "Extracting dataset/arxiv.zip\n"
          ]
        },
        {
          "output_type": "stream",
          "name": "stderr",
          "text": [
            "Processing...\n"
          ]
        },
        {
          "output_type": "stream",
          "name": "stdout",
          "text": [
            "Loading necessary files...\n",
            "This might take a while.\n",
            "Processing graphs...\n"
          ]
        },
        {
          "output_type": "stream",
          "name": "stderr",
          "text": [
            "100%|██████████| 1/1 [00:00<00:00, 7543.71it/s]\n"
          ]
        },
        {
          "output_type": "stream",
          "name": "stdout",
          "text": [
            "Converting graphs into PyG objects...\n"
          ]
        },
        {
          "output_type": "stream",
          "name": "stderr",
          "text": [
            "100%|██████████| 1/1 [00:00<00:00, 208.84it/s]"
          ]
        },
        {
          "output_type": "stream",
          "name": "stdout",
          "text": [
            "Saving...\n"
          ]
        },
        {
          "output_type": "stream",
          "name": "stderr",
          "text": [
            "\n"
          ]
        },
        {
          "output_type": "stream",
          "name": "stdout",
          "text": [
            "Device: cuda\n"
          ]
        },
        {
          "output_type": "stream",
          "name": "stderr",
          "text": [
            "Done!\n"
          ]
        }
      ]
    },
    {
      "cell_type": "markdown",
      "metadata": {
        "id": "VjdkIcFpRYyl"
      },
      "source": [
        "## GNN Model\n",
        "\n",
        "After creating our `NeighborSampler`, we also need to modify our model to support the mini-batch training.\n",
        "\n",
        "The `forward` function will take the node feature `x` and a list of three-element tuples `adjs`. Each element in `adjs` contains following elements:\n",
        "* `edge_index`: The edge index tensor between source and destination nodes, which forms a bipartite grpah.\n",
        "* `e_id`: The indices of the edges in the original graph.\n",
        "* `size`: The shape of the bipartite graph, in (*number of source nodes*, *number of destination nodes*) format.\n"
      ]
    },
    {
      "cell_type": "code",
      "metadata": {
        "id": "gRBJS_5qRWbu"
      },
      "source": [
        "class SAGE(torch.nn.Module):\n",
        "    def __init__(self, input_dim, hidden_dim, output_dim, num_layers,\n",
        "                 dropout):\n",
        "        super(SAGE, self).__init__()\n",
        "\n",
        "        self.convs = torch.nn.ModuleList()\n",
        "        self.bns = torch.nn.ModuleList()\n",
        "\n",
        "        self.convs.append(SAGEConv(input_dim, hidden_dim))\n",
        "        self.bns.append(torch.nn.BatchNorm1d(hidden_dim))\n",
        "\n",
        "        for i in range(num_layers - 2):\n",
        "            self.convs.append(\n",
        "                SAGEConv(hidden_dim, hidden_dim))\n",
        "            self.bns.append(torch.nn.BatchNorm1d(hidden_dim))\n",
        "        self.convs.append(SAGEConv(hidden_dim, output_dim))\n",
        "\n",
        "        self.softmax = torch.nn.LogSoftmax(dim=1)\n",
        "\n",
        "        self.dropout = dropout\n",
        "\n",
        "        self.num_layers = num_layers\n",
        "\n",
        "    def reset_parameters(self):\n",
        "        for conv in self.convs:\n",
        "            conv.reset_parameters()\n",
        "        for bn in self.bns:\n",
        "            bn.reset_parameters()\n",
        "\n",
        "    def forward(self, x, adjs, mode=\"batch\"):\n",
        "        if mode == \"batch\":\n",
        "            ############# Your code here ############\n",
        "            ## (~7 line of code)\n",
        "            ## Note:\n",
        "            ## 1. Loop through the list `adjs` and apply L GNN layers.\n",
        "            ##    Refer to the description above for the elements in each tuple\n",
        "            ##    adjs[l].\n",
        "            ## 2. Our GNN model is of the form:\n",
        "            ##      conv -> bn -> relu -> dropout -> ... -> conv\n",
        "            ## 3. As described above, each layer is defined by a bipartite graph\n",
        "            ##    between (source nodes and target nodes), where the size parameter\n",
        "            ##    tells us many source nodes and target nodes we have.\n",
        "            ## 4. Rather than passing just x to the SAGEConv layer, you can pass\n",
        "            ##    a tuple of the form (x_src, x_target). With this formulation\n",
        "            ##    we only produce embeddings for the `x_target` nodes and use\n",
        "            ##    `x_source` as the nodes needed for message passing.  \n",
        "            ##\n",
        "            ##    Hint: \n",
        "            ##      - Target nodes are included as the first nodes in the source nodes.\n",
        "            ##      - The target nodes for layer (l) become the source nodes \n",
        "            ##      for layer (l+1)!\n",
        "            ## https://github.com/pyg-team/pytorch_geometric/blob/master/examples/ogbn_products_sage.py\n",
        "            for i, (edge_index, _, size) in enumerate(adjs):              # 1\n",
        "                x_target = x[:size[1]]                                    # 3\n",
        "              \n",
        "                x = self.convs[i]((x, x_target), edge_index)              # 4\n",
        "                if i != self.num_layers - 1:                              # 2\n",
        "                    x = self.bns[i](x)\n",
        "                    x = F.relu(x)\n",
        "                    x = F.dropout(x, p=self.dropout, training=self.training)\n",
        "            #####################################\n",
        "        else:\n",
        "            for i, conv in enumerate(self.convs):\n",
        "                x = conv(x, adjs)\n",
        "                if i != self.num_layers - 1:\n",
        "                    x = self.bns[i](x)\n",
        "                    x = F.relu(x)\n",
        "                    x = F.dropout(x, p=self.dropout, training=self.training)\n",
        "        return self.softmax(x)\n",
        "    \n",
        "    def inference(self, x_all, all_loader):\n",
        "        # This function will be called in test\n",
        "        for i in range(self.num_layers):\n",
        "            xs = []\n",
        "            ############# Your code here ############\n",
        "            ## (~7 line of code)\n",
        "            ## Note:\n",
        "            ## 1. Very similar idea to the forward function!\n",
        "            ## 2. Looping through all_loader to apply conv layer i to each\n",
        "            ##    batch of nodes, where all_loader returns tuples of:\n",
        "            ##      - batch_size\n",
        "            ##      - node_indeces of the nodes we want to sample from x_all\n",
        "            ##      in the current batch.\n",
        "            ##      - adj: see above for what is in the tuple adj.\n",
        "            ## 3. After selecting nodes using the node_indeces, follow the same\n",
        "            ##    steps as the forward function.\n",
        "            ## 4. Since we are doing mini-batches of nodes, we now need\n",
        "            ##    to append the generated embeddings to compute all\n",
        "            ##    the node embeddings!\n",
        "            ## 5. Rember to move `adj` and the selected nodes for each batch to\n",
        "            ##    the GPU `device`.\n",
        "            for batch_size, n_id, adj in all_loader:                      # 2\n",
        "                edge_index, _, size = adj.to(device)                      # 5\n",
        "                x = x_all[n_id].to(device)                                # 3, 5\n",
        "                x_target = x[:size[1]]\n",
        "                x = self.convs[i]((x, x_target), edge_index)\n",
        "                if i != self.num_layers - 1:\n",
        "                    x = self.bns[i](x)\n",
        "                    x = F.relu(x)\n",
        "                    x = F.dropout(x, p=self.dropout, training=self.training)\n",
        "                xs.append(x.cpu())                                        # 4\n",
        "            x_all = torch.cat(xs, dim=0)\n",
        "            #####################################            \n",
        "            # Concatenate all updated embeddings into one tensor.\n",
        "            # We simulate the update process at the end of message\n",
        "            # passing. Because of this we only have to sample 1-hop neighborhoods\n",
        "            # for our full_subgraph_loader!\n",
        "            x_all = torch.cat(xs, dim=0)\n",
        "\n",
        "        return x_all"
      ],
      "execution_count": 5,
      "outputs": []
    },
    {
      "cell_type": "markdown",
      "metadata": {
        "id": "7cfm7K3wRqqY"
      },
      "source": [
        "## Training and Testing\n",
        "\n",
        "Now lets implement the training and testing functions.\n",
        "\n",
        "In both training and testing, we need to sample batch from the dataloader.\n",
        "\n",
        "Each batch in the `NeighborSampler` dataloader holds three elements:\n",
        "* `batch_size`: The batch size specified in the dataloader.\n",
        "* `n_id`: All nodes (in index format) used in the adjacency matrices.\n",
        "* `adjs`: The three-element tuples."
      ]
    },
    {
      "cell_type": "code",
      "metadata": {
        "id": "-JN0-_QCRn8N"
      },
      "source": [
        "def train(model, data, train_loader, train_idx, optimizer, loss_fn, mode=\"batch\"):\n",
        "    model.train()\n",
        "\n",
        "    total_loss = 0\n",
        "    if mode == \"batch\":\n",
        "        for batch_size, n_id, adjs in train_loader:\n",
        "            # Move all adj sparse tensors to GPU\n",
        "            adjs = [adj.to(device) for adj in adjs]\n",
        "            optimizer.zero_grad()\n",
        "\n",
        "            # Index on the node features\n",
        "            out = model(data.x[n_id], adjs)\n",
        "            train_label = data.y[n_id[:batch_size]].squeeze(-1)\n",
        "            loss = loss_fn(out, train_label)\n",
        "            loss.backward()\n",
        "            optimizer.step()\n",
        "            total_loss += loss.item()\n",
        "    else:\n",
        "        optimizer.zero_grad()\n",
        "        out = model(data.x, data.adj_t, mode=mode)[train_idx]\n",
        "        train_label = data.y.squeeze(1)[train_idx]\n",
        "        loss = loss_fn(out, train_label)\n",
        "        loss.backward()\n",
        "        optimizer.step()\n",
        "        total_loss = loss.item()\n",
        "\n",
        "    return total_loss\n",
        "\n",
        "@torch.no_grad()\n",
        "def test(model, data, all_loader, split_idx, evaluator, mode=\"batch\", save_model_results=False):\n",
        "    model.eval()\n",
        "\n",
        "    if mode == \"batch\":\n",
        "        out = model.inference(data.x, all_loader)\n",
        "    else:\n",
        "        out = model(data.x, data.adj_t, mode=\"all\")\n",
        "\n",
        "    y_true = data.y.cpu()\n",
        "    y_pred = out.argmax(dim=-1, keepdim=True)\n",
        "\n",
        "    train_acc = evaluator.eval({\n",
        "        'y_true': y_true[split_idx['train']],\n",
        "        'y_pred': y_pred[split_idx['train']],\n",
        "    })['acc']\n",
        "    valid_acc = evaluator.eval({\n",
        "        'y_true': y_true[split_idx['valid']],\n",
        "        'y_pred': y_pred[split_idx['valid']],\n",
        "    })['acc']\n",
        "    test_acc = evaluator.eval({\n",
        "        'y_true': y_true[split_idx['test']],\n",
        "        'y_pred': y_pred[split_idx['test']],\n",
        "    })['acc']\n",
        "\n",
        "    if save_model_results:\n",
        "      print (\"Saving Model Predictions\")\n",
        "\n",
        "      data = {}\n",
        "      data['y_pred'] = y_pred.view(-1).cpu().detach().numpy()\n",
        "\n",
        "      df = pd.DataFrame(data=data)\n",
        "      # Save locally as csv\n",
        "      df.to_csv('ogbn-arxiv_' + mode + '.csv', sep=',', index=False)\n",
        "\n",
        "    return train_acc, valid_acc, test_acc"
      ],
      "execution_count": 6,
      "outputs": []
    },
    {
      "cell_type": "markdown",
      "metadata": {
        "id": "AiehZ8OiR2q9"
      },
      "source": [
        "## Mini-batch Training\n",
        "\n",
        "Test our model using mini-batch training, based on our NeighborSampler!"
      ]
    },
    {
      "cell_type": "code",
      "metadata": {
        "id": "zFaI2eCARy0v",
        "colab": {
          "base_uri": "https://localhost:8080/"
        },
        "outputId": "7f6acdd4-d1c8-4715-cba9-da0b758a4ea2"
      },
      "source": [
        "import pandas as pd\n",
        "\n",
        "if 'IS_GRADESCOPE_ENV' not in os.environ:\n",
        "  args = {\n",
        "      'device': device,\n",
        "      'num_layers': 2,\n",
        "      'hidden_dim': 128,\n",
        "      'dropout': 0.5,\n",
        "      'lr': 0.01,\n",
        "      'epochs': 100,\n",
        "  }\n",
        "\n",
        "  batch_model = SAGE(data.num_features, args['hidden_dim'],\n",
        "              dataset.num_classes, args['num_layers'],\n",
        "              args['dropout']).to(device)\n",
        "  batch_model.reset_parameters()\n",
        "\n",
        "  optimizer = torch.optim.Adam(batch_model.parameters(), lr=args['lr'])\n",
        "  loss_fn = F.nll_loss\n",
        "\n",
        "  best_batch_model = None\n",
        "  best_valid_acc = 0\n",
        "\n",
        "  batch_results = []\n",
        "\n",
        "  for epoch in range(1, 1 + args[\"epochs\"]):\n",
        "      loss = train(batch_model, data, sampled_subgraph_batch_loader, train_idx, optimizer, loss_fn, mode=\"batch\")\n",
        "      result = test(batch_model, data, full_subgraph_loader, split_idx, evaluator, mode=\"batch\")\n",
        "      batch_results.append(result)\n",
        "      train_acc, valid_acc, test_acc = result\n",
        "      if valid_acc > best_valid_acc:\n",
        "          best_valid_acc = valid_acc\n",
        "          best_batch_model = copy.deepcopy(batch_model)\n",
        "      print(f'Epoch: {epoch:02d}, '\n",
        "            f'Loss: {loss:.4f}, '\n",
        "            f'Train: {100 * train_acc:.2f}%, '\n",
        "            f'Valid: {100 * valid_acc:.2f}% '\n",
        "            f'Test: {100 * test_acc:.2f}%')\n",
        "  best_result = test(best_batch_model, data, full_subgraph_loader, split_idx, evaluator, mode=\"batch\", save_model_results=True)\n",
        "  train_acc, valid_acc, test_acc = best_result\n",
        "  print(f'Best model: '\n",
        "        f'Train: {100 * train_acc:.2f}%, '\n",
        "        f'Valid: {100 * valid_acc:.2f}% '\n",
        "        f'Test: {100 * test_acc:.2f}%')"
      ],
      "execution_count": 7,
      "outputs": [
        {
          "output_type": "stream",
          "name": "stdout",
          "text": [
            "Epoch: 01, Loss: 39.9623, Train: 63.09%, Valid: 64.19% Test: 63.59%\n",
            "Epoch: 02, Loss: 28.4783, Train: 67.05%, Valid: 67.17% Test: 66.86%\n",
            "Epoch: 03, Loss: 26.4802, Train: 68.79%, Valid: 67.24% Test: 65.03%\n",
            "Epoch: 04, Loss: 25.6034, Train: 69.86%, Valid: 68.56% Test: 67.67%\n",
            "Epoch: 05, Loss: 24.9960, Train: 69.87%, Valid: 67.32% Test: 65.20%\n",
            "Epoch: 06, Loss: 24.7052, Train: 70.66%, Valid: 69.65% Test: 68.76%\n",
            "Epoch: 07, Loss: 24.2802, Train: 71.37%, Valid: 69.46% Test: 68.24%\n",
            "Epoch: 08, Loss: 23.8823, Train: 71.28%, Valid: 69.16% Test: 68.75%\n",
            "Epoch: 09, Loss: 23.7098, Train: 71.49%, Valid: 70.23% Test: 69.86%\n",
            "Epoch: 10, Loss: 23.5010, Train: 72.36%, Valid: 70.22% Test: 69.66%\n",
            "Epoch: 11, Loss: 23.2850, Train: 72.62%, Valid: 70.05% Test: 69.03%\n",
            "Epoch: 12, Loss: 23.2699, Train: 72.39%, Valid: 69.49% Test: 67.81%\n",
            "Epoch: 13, Loss: 23.1853, Train: 73.19%, Valid: 69.70% Test: 67.70%\n",
            "Epoch: 14, Loss: 23.0006, Train: 73.08%, Valid: 70.36% Test: 69.27%\n",
            "Epoch: 15, Loss: 22.8232, Train: 73.41%, Valid: 70.52% Test: 69.42%\n",
            "Epoch: 16, Loss: 22.6724, Train: 73.08%, Valid: 69.47% Test: 67.42%\n",
            "Epoch: 17, Loss: 22.5073, Train: 73.37%, Valid: 70.53% Test: 69.10%\n",
            "Epoch: 18, Loss: 22.4490, Train: 73.86%, Valid: 70.11% Test: 68.62%\n",
            "Epoch: 19, Loss: 22.4361, Train: 73.56%, Valid: 70.30% Test: 69.26%\n",
            "Epoch: 20, Loss: 22.2350, Train: 73.87%, Valid: 70.10% Test: 68.69%\n",
            "Epoch: 21, Loss: 22.0675, Train: 74.13%, Valid: 70.77% Test: 70.30%\n",
            "Epoch: 22, Loss: 22.0994, Train: 74.16%, Valid: 69.86% Test: 67.79%\n",
            "Epoch: 23, Loss: 22.0057, Train: 74.39%, Valid: 70.62% Test: 69.58%\n",
            "Epoch: 24, Loss: 21.9714, Train: 74.51%, Valid: 70.71% Test: 69.66%\n",
            "Epoch: 25, Loss: 21.9621, Train: 74.55%, Valid: 70.81% Test: 69.63%\n",
            "Epoch: 26, Loss: 21.9069, Train: 74.64%, Valid: 70.25% Test: 68.89%\n",
            "Epoch: 27, Loss: 21.7594, Train: 74.82%, Valid: 70.53% Test: 69.77%\n",
            "Epoch: 28, Loss: 21.7920, Train: 74.71%, Valid: 70.70% Test: 70.03%\n",
            "Epoch: 29, Loss: 21.6834, Train: 75.02%, Valid: 70.38% Test: 69.19%\n",
            "Epoch: 30, Loss: 21.5962, Train: 75.28%, Valid: 70.66% Test: 69.97%\n",
            "Epoch: 31, Loss: 21.5427, Train: 75.24%, Valid: 70.53% Test: 69.57%\n",
            "Epoch: 32, Loss: 21.6126, Train: 75.06%, Valid: 70.74% Test: 70.14%\n",
            "Epoch: 33, Loss: 21.4739, Train: 74.95%, Valid: 71.00% Test: 70.42%\n",
            "Epoch: 34, Loss: 21.3991, Train: 75.27%, Valid: 70.41% Test: 69.20%\n",
            "Epoch: 35, Loss: 21.3673, Train: 75.33%, Valid: 70.93% Test: 70.33%\n",
            "Epoch: 36, Loss: 21.2665, Train: 75.19%, Valid: 70.74% Test: 69.38%\n",
            "Epoch: 37, Loss: 21.3497, Train: 75.45%, Valid: 70.12% Test: 68.36%\n",
            "Epoch: 38, Loss: 21.3505, Train: 75.58%, Valid: 70.49% Test: 69.51%\n",
            "Epoch: 39, Loss: 21.1519, Train: 75.36%, Valid: 70.78% Test: 69.92%\n",
            "Epoch: 40, Loss: 21.1749, Train: 75.48%, Valid: 70.70% Test: 69.65%\n",
            "Epoch: 41, Loss: 21.1577, Train: 75.75%, Valid: 70.51% Test: 69.16%\n",
            "Epoch: 42, Loss: 21.1779, Train: 75.68%, Valid: 70.50% Test: 69.28%\n",
            "Epoch: 43, Loss: 21.1061, Train: 75.68%, Valid: 70.21% Test: 68.62%\n",
            "Epoch: 44, Loss: 21.1280, Train: 76.07%, Valid: 70.55% Test: 69.12%\n",
            "Epoch: 45, Loss: 21.0432, Train: 75.59%, Valid: 70.99% Test: 69.93%\n",
            "Epoch: 46, Loss: 21.0087, Train: 75.93%, Valid: 70.44% Test: 68.91%\n",
            "Epoch: 47, Loss: 21.0795, Train: 76.05%, Valid: 70.68% Test: 69.46%\n",
            "Epoch: 48, Loss: 20.9728, Train: 75.66%, Valid: 70.46% Test: 69.68%\n",
            "Epoch: 49, Loss: 21.0975, Train: 75.79%, Valid: 70.61% Test: 69.42%\n",
            "Epoch: 50, Loss: 21.0891, Train: 75.97%, Valid: 70.64% Test: 69.66%\n",
            "Epoch: 51, Loss: 20.9310, Train: 76.05%, Valid: 70.31% Test: 69.25%\n",
            "Epoch: 52, Loss: 20.8020, Train: 76.32%, Valid: 70.56% Test: 69.11%\n",
            "Epoch: 53, Loss: 20.9135, Train: 76.33%, Valid: 70.61% Test: 69.18%\n",
            "Epoch: 54, Loss: 20.8624, Train: 76.14%, Valid: 70.31% Test: 69.03%\n",
            "Epoch: 55, Loss: 20.7703, Train: 76.18%, Valid: 69.96% Test: 68.29%\n",
            "Epoch: 56, Loss: 20.8548, Train: 76.44%, Valid: 70.95% Test: 70.27%\n",
            "Epoch: 57, Loss: 20.8062, Train: 76.21%, Valid: 70.72% Test: 69.84%\n",
            "Epoch: 58, Loss: 20.8190, Train: 76.39%, Valid: 70.80% Test: 69.80%\n",
            "Epoch: 59, Loss: 20.7028, Train: 76.41%, Valid: 70.72% Test: 69.63%\n",
            "Epoch: 60, Loss: 20.7826, Train: 76.23%, Valid: 70.74% Test: 70.10%\n",
            "Epoch: 61, Loss: 20.7129, Train: 76.55%, Valid: 70.56% Test: 69.36%\n",
            "Epoch: 62, Loss: 20.7391, Train: 76.32%, Valid: 70.40% Test: 69.37%\n",
            "Epoch: 63, Loss: 20.6727, Train: 76.46%, Valid: 70.89% Test: 70.10%\n",
            "Epoch: 64, Loss: 20.5287, Train: 76.62%, Valid: 70.59% Test: 69.45%\n",
            "Epoch: 65, Loss: 20.6981, Train: 76.53%, Valid: 70.38% Test: 68.46%\n",
            "Epoch: 66, Loss: 20.6313, Train: 76.55%, Valid: 70.46% Test: 69.15%\n",
            "Epoch: 67, Loss: 20.7800, Train: 76.73%, Valid: 70.86% Test: 69.86%\n",
            "Epoch: 68, Loss: 20.5725, Train: 76.66%, Valid: 70.13% Test: 68.77%\n",
            "Epoch: 69, Loss: 20.6025, Train: 76.84%, Valid: 70.58% Test: 69.45%\n",
            "Epoch: 70, Loss: 20.6495, Train: 76.92%, Valid: 70.67% Test: 69.77%\n",
            "Epoch: 71, Loss: 20.5364, Train: 76.79%, Valid: 70.54% Test: 69.20%\n",
            "Epoch: 72, Loss: 20.5621, Train: 76.84%, Valid: 70.50% Test: 69.30%\n",
            "Epoch: 73, Loss: 20.4524, Train: 76.77%, Valid: 70.59% Test: 69.83%\n",
            "Epoch: 74, Loss: 20.4635, Train: 76.94%, Valid: 70.65% Test: 69.17%\n",
            "Epoch: 75, Loss: 20.4088, Train: 76.81%, Valid: 70.48% Test: 69.31%\n",
            "Epoch: 76, Loss: 20.4842, Train: 77.04%, Valid: 70.59% Test: 69.47%\n",
            "Epoch: 77, Loss: 20.4608, Train: 76.79%, Valid: 70.57% Test: 69.48%\n",
            "Epoch: 78, Loss: 20.4170, Train: 76.80%, Valid: 70.80% Test: 69.68%\n",
            "Epoch: 79, Loss: 20.4282, Train: 76.73%, Valid: 70.50% Test: 69.31%\n",
            "Epoch: 80, Loss: 20.5289, Train: 76.85%, Valid: 70.11% Test: 68.89%\n",
            "Epoch: 81, Loss: 20.3716, Train: 77.13%, Valid: 70.59% Test: 69.50%\n",
            "Epoch: 82, Loss: 20.5151, Train: 76.85%, Valid: 70.61% Test: 70.41%\n",
            "Epoch: 83, Loss: 20.2967, Train: 77.25%, Valid: 70.65% Test: 69.56%\n",
            "Epoch: 84, Loss: 20.3336, Train: 76.86%, Valid: 70.43% Test: 69.10%\n",
            "Epoch: 85, Loss: 20.3389, Train: 77.10%, Valid: 70.35% Test: 69.13%\n",
            "Epoch: 86, Loss: 20.3187, Train: 77.17%, Valid: 70.65% Test: 69.56%\n",
            "Epoch: 87, Loss: 20.2236, Train: 76.99%, Valid: 70.52% Test: 69.67%\n",
            "Epoch: 88, Loss: 20.2777, Train: 76.94%, Valid: 70.96% Test: 70.15%\n",
            "Epoch: 89, Loss: 20.2405, Train: 77.11%, Valid: 70.61% Test: 69.34%\n",
            "Epoch: 90, Loss: 20.2596, Train: 77.06%, Valid: 70.42% Test: 69.31%\n",
            "Epoch: 91, Loss: 20.3108, Train: 77.47%, Valid: 70.56% Test: 69.62%\n",
            "Epoch: 92, Loss: 20.2836, Train: 77.18%, Valid: 70.55% Test: 69.53%\n",
            "Epoch: 93, Loss: 20.1488, Train: 77.16%, Valid: 70.74% Test: 69.49%\n",
            "Epoch: 94, Loss: 20.2318, Train: 77.31%, Valid: 70.73% Test: 70.01%\n",
            "Epoch: 95, Loss: 20.2562, Train: 77.27%, Valid: 70.34% Test: 69.06%\n",
            "Epoch: 96, Loss: 20.3029, Train: 77.22%, Valid: 70.75% Test: 69.72%\n",
            "Epoch: 97, Loss: 20.2655, Train: 77.18%, Valid: 70.26% Test: 68.97%\n",
            "Epoch: 98, Loss: 20.2186, Train: 77.21%, Valid: 70.46% Test: 69.28%\n",
            "Epoch: 99, Loss: 20.1130, Train: 77.06%, Valid: 70.57% Test: 69.89%\n",
            "Epoch: 100, Loss: 20.1858, Train: 77.16%, Valid: 69.86% Test: 67.96%\n",
            "Saving Model Predictions\n",
            "Best model: Train: 74.95%, Valid: 71.00% Test: 70.42%\n"
          ]
        }
      ]
    },
    {
      "cell_type": "markdown",
      "metadata": {
        "id": "JwcRKcAh16RV"
      },
      "source": [
        "## **Question 1:** What is the maximum accuracy obtained on the test set using mini-batch training? (10 points)\n",
        "\n",
        "Running the cell above will show the results of your best model and save your best model's predictions to a file named ogbn-arxiv_batch.csv'.\n",
        "\n",
        "As we have seen before you can view this file by clicking on the Folder icon on the left side pannel. When you sumbit your assignment, you will have to download this file and attatch it to your submission."
      ]
    },
    {
      "cell_type": "markdown",
      "metadata": {
        "id": "-OyqW-1pSMLW"
      },
      "source": [
        "## Full-batch Training\n",
        "\n",
        "Now for reference, we will compare training over all the nodes using full-batch mode (i.e. as we have done in the previous Colabs)."
      ]
    },
    {
      "cell_type": "code",
      "metadata": {
        "id": "mU5eAviTSFMO",
        "colab": {
          "base_uri": "https://localhost:8080/"
        },
        "outputId": "34e836f7-8ff9-49bc-d62a-dbc842a2a580"
      },
      "source": [
        "if 'IS_GRADESCOPE_ENV' not in os.environ:  \n",
        "  # Use the same parameters for a full-batch training\n",
        "  args = {\n",
        "      'device': device,\n",
        "      'num_layers': 2,\n",
        "      'hidden_dim': 128,\n",
        "      'dropout': 0.5,\n",
        "      'lr': 0.01,\n",
        "      'epochs': 100,\n",
        "  }\n",
        "\n",
        "  all_model = SAGE(data.num_features, args['hidden_dim'],\n",
        "              dataset.num_classes, args['num_layers'],\n",
        "              args['dropout']).to(device)\n",
        "  all_model.reset_parameters()\n",
        "\n",
        "  optimizer = torch.optim.Adam(all_model.parameters(), lr=args['lr'])\n",
        "  loss_fn = F.nll_loss\n",
        "\n",
        "  best_all_model = None\n",
        "  best_valid_acc = 0\n",
        "\n",
        "  all_results = []\n",
        "\n",
        "  for epoch in range(1, 1 + args[\"epochs\"]):\n",
        "      # NOTE: For the full batch model, the NeighborSampler loader is not used!\n",
        "      loss = train(all_model, data, sampled_subgraph_batch_loader, train_idx, optimizer, loss_fn, mode=\"all\")\n",
        "      result = test(all_model, data, full_subgraph_loader, split_idx, evaluator, mode=\"all\")\n",
        "      all_results.append(result)\n",
        "      train_acc, valid_acc, test_acc = result\n",
        "      if valid_acc > best_valid_acc:\n",
        "          best_valid_acc = valid_acc\n",
        "          best_all_model = copy.deepcopy(all_model)\n",
        "      print(f'Epoch: {epoch:02d}, '\n",
        "            f'Loss: {loss:.4f}, '\n",
        "            f'Train: {100 * train_acc:.2f}%, '\n",
        "            f'Valid: {100 * valid_acc:.2f}% '\n",
        "            f'Test: {100 * test_acc:.2f}%')\n",
        "  best_result = test(best_all_model, data, full_subgraph_loader, split_idx, evaluator, mode=\"all\")\n",
        "  train_acc, valid_acc, test_acc = best_result\n",
        "  print(f'Best model: '\n",
        "        f'Train: {100 * train_acc:.2f}%, '\n",
        "        f'Valid: {100 * valid_acc:.2f}% '\n",
        "        f'Test: {100 * test_acc:.2f}%')"
      ],
      "execution_count": 8,
      "outputs": [
        {
          "output_type": "stream",
          "name": "stdout",
          "text": [
            "Epoch: 01, Loss: 3.9923, Train: 32.86%, Valid: 35.64% Test: 34.03%\n",
            "Epoch: 02, Loss: 2.5957, Train: 32.31%, Valid: 34.61% Test: 33.02%\n",
            "Epoch: 03, Loss: 2.1998, Train: 33.06%, Valid: 35.69% Test: 34.64%\n",
            "Epoch: 04, Loss: 2.0292, Train: 36.99%, Valid: 40.96% Test: 41.52%\n",
            "Epoch: 05, Loss: 1.8883, Train: 42.03%, Valid: 46.77% Test: 48.50%\n",
            "Epoch: 06, Loss: 1.7724, Train: 45.66%, Valid: 49.70% Test: 51.45%\n",
            "Epoch: 07, Loss: 1.6840, Train: 48.05%, Valid: 51.83% Test: 53.19%\n",
            "Epoch: 08, Loss: 1.6239, Train: 50.45%, Valid: 54.32% Test: 55.33%\n",
            "Epoch: 09, Loss: 1.5721, Train: 53.00%, Valid: 57.06% Test: 57.50%\n",
            "Epoch: 10, Loss: 1.5214, Train: 55.14%, Valid: 58.71% Test: 58.97%\n",
            "Epoch: 11, Loss: 1.4814, Train: 56.40%, Valid: 59.82% Test: 59.69%\n",
            "Epoch: 12, Loss: 1.4474, Train: 57.12%, Valid: 60.21% Test: 59.89%\n",
            "Epoch: 13, Loss: 1.4176, Train: 57.85%, Valid: 60.43% Test: 60.07%\n",
            "Epoch: 14, Loss: 1.3897, Train: 58.61%, Valid: 60.91% Test: 60.43%\n",
            "Epoch: 15, Loss: 1.3673, Train: 59.38%, Valid: 61.37% Test: 60.99%\n",
            "Epoch: 16, Loss: 1.3490, Train: 60.38%, Valid: 62.04% Test: 61.66%\n",
            "Epoch: 17, Loss: 1.3348, Train: 61.41%, Valid: 62.91% Test: 62.46%\n",
            "Epoch: 18, Loss: 1.3232, Train: 62.27%, Valid: 63.72% Test: 63.34%\n",
            "Epoch: 19, Loss: 1.3059, Train: 62.95%, Valid: 64.51% Test: 63.93%\n",
            "Epoch: 20, Loss: 1.2962, Train: 63.50%, Valid: 65.00% Test: 64.43%\n",
            "Epoch: 21, Loss: 1.2832, Train: 63.89%, Valid: 65.28% Test: 64.57%\n",
            "Epoch: 22, Loss: 1.2736, Train: 64.11%, Valid: 65.28% Test: 64.56%\n",
            "Epoch: 23, Loss: 1.2588, Train: 64.23%, Valid: 65.20% Test: 64.40%\n",
            "Epoch: 24, Loss: 1.2473, Train: 64.35%, Valid: 65.05% Test: 64.44%\n",
            "Epoch: 25, Loss: 1.2369, Train: 64.61%, Valid: 65.22% Test: 64.57%\n",
            "Epoch: 26, Loss: 1.2244, Train: 64.94%, Valid: 65.44% Test: 64.86%\n",
            "Epoch: 27, Loss: 1.2171, Train: 65.27%, Valid: 65.90% Test: 65.17%\n",
            "Epoch: 28, Loss: 1.2141, Train: 65.73%, Valid: 66.15% Test: 65.47%\n",
            "Epoch: 29, Loss: 1.2063, Train: 65.99%, Valid: 66.57% Test: 65.74%\n",
            "Epoch: 30, Loss: 1.1962, Train: 66.33%, Valid: 66.88% Test: 66.03%\n",
            "Epoch: 31, Loss: 1.1904, Train: 66.61%, Valid: 66.98% Test: 66.22%\n",
            "Epoch: 32, Loss: 1.1823, Train: 66.84%, Valid: 67.15% Test: 66.36%\n",
            "Epoch: 33, Loss: 1.1719, Train: 67.07%, Valid: 67.38% Test: 66.57%\n",
            "Epoch: 34, Loss: 1.1719, Train: 67.22%, Valid: 67.53% Test: 66.70%\n",
            "Epoch: 35, Loss: 1.1650, Train: 67.48%, Valid: 67.71% Test: 66.79%\n",
            "Epoch: 36, Loss: 1.1549, Train: 67.65%, Valid: 67.79% Test: 66.86%\n",
            "Epoch: 37, Loss: 1.1544, Train: 67.84%, Valid: 67.90% Test: 66.88%\n",
            "Epoch: 38, Loss: 1.1473, Train: 67.92%, Valid: 67.97% Test: 67.00%\n",
            "Epoch: 39, Loss: 1.1453, Train: 67.99%, Valid: 68.09% Test: 67.28%\n",
            "Epoch: 40, Loss: 1.1412, Train: 68.08%, Valid: 68.32% Test: 67.48%\n",
            "Epoch: 41, Loss: 1.1330, Train: 68.20%, Valid: 68.34% Test: 67.56%\n",
            "Epoch: 42, Loss: 1.1291, Train: 68.31%, Valid: 68.40% Test: 67.58%\n",
            "Epoch: 43, Loss: 1.1236, Train: 68.43%, Valid: 68.40% Test: 67.55%\n",
            "Epoch: 44, Loss: 1.1186, Train: 68.54%, Valid: 68.31% Test: 67.52%\n",
            "Epoch: 45, Loss: 1.1164, Train: 68.66%, Valid: 68.22% Test: 67.52%\n",
            "Epoch: 46, Loss: 1.1125, Train: 68.74%, Valid: 68.34% Test: 67.66%\n",
            "Epoch: 47, Loss: 1.1101, Train: 68.85%, Valid: 68.40% Test: 67.81%\n",
            "Epoch: 48, Loss: 1.1008, Train: 68.96%, Valid: 68.51% Test: 67.91%\n",
            "Epoch: 49, Loss: 1.1008, Train: 69.06%, Valid: 68.61% Test: 67.87%\n",
            "Epoch: 50, Loss: 1.0984, Train: 69.16%, Valid: 68.65% Test: 67.88%\n",
            "Epoch: 51, Loss: 1.0958, Train: 69.23%, Valid: 68.60% Test: 67.90%\n",
            "Epoch: 52, Loss: 1.0927, Train: 69.30%, Valid: 68.65% Test: 67.92%\n",
            "Epoch: 53, Loss: 1.0884, Train: 69.36%, Valid: 68.66% Test: 67.97%\n",
            "Epoch: 54, Loss: 1.0850, Train: 69.41%, Valid: 68.65% Test: 68.09%\n",
            "Epoch: 55, Loss: 1.0815, Train: 69.50%, Valid: 68.78% Test: 68.22%\n",
            "Epoch: 56, Loss: 1.0789, Train: 69.61%, Valid: 68.88% Test: 68.34%\n",
            "Epoch: 57, Loss: 1.0785, Train: 69.76%, Valid: 68.99% Test: 68.45%\n",
            "Epoch: 58, Loss: 1.0706, Train: 69.89%, Valid: 69.06% Test: 68.46%\n",
            "Epoch: 59, Loss: 1.0714, Train: 69.99%, Valid: 69.11% Test: 68.39%\n",
            "Epoch: 60, Loss: 1.0693, Train: 70.07%, Valid: 69.20% Test: 68.30%\n",
            "Epoch: 61, Loss: 1.0644, Train: 70.19%, Valid: 69.18% Test: 68.33%\n",
            "Epoch: 62, Loss: 1.0608, Train: 70.26%, Valid: 69.20% Test: 68.40%\n",
            "Epoch: 63, Loss: 1.0594, Train: 70.33%, Valid: 69.27% Test: 68.50%\n",
            "Epoch: 64, Loss: 1.0562, Train: 70.41%, Valid: 69.32% Test: 68.58%\n",
            "Epoch: 65, Loss: 1.0534, Train: 70.51%, Valid: 69.29% Test: 68.43%\n",
            "Epoch: 66, Loss: 1.0553, Train: 70.53%, Valid: 69.18% Test: 68.21%\n",
            "Epoch: 67, Loss: 1.0474, Train: 70.59%, Valid: 69.22% Test: 68.19%\n",
            "Epoch: 68, Loss: 1.0466, Train: 70.66%, Valid: 69.31% Test: 68.30%\n",
            "Epoch: 69, Loss: 1.0483, Train: 70.74%, Valid: 69.49% Test: 68.45%\n",
            "Epoch: 70, Loss: 1.0422, Train: 70.78%, Valid: 69.61% Test: 68.70%\n",
            "Epoch: 71, Loss: 1.0418, Train: 70.84%, Valid: 69.59% Test: 68.74%\n",
            "Epoch: 72, Loss: 1.0371, Train: 70.88%, Valid: 69.61% Test: 68.68%\n",
            "Epoch: 73, Loss: 1.0367, Train: 70.94%, Valid: 69.66% Test: 68.65%\n",
            "Epoch: 74, Loss: 1.0341, Train: 70.95%, Valid: 69.75% Test: 68.78%\n",
            "Epoch: 75, Loss: 1.0298, Train: 71.01%, Valid: 69.81% Test: 68.87%\n",
            "Epoch: 76, Loss: 1.0341, Train: 71.06%, Valid: 69.82% Test: 68.88%\n",
            "Epoch: 77, Loss: 1.0277, Train: 71.11%, Valid: 69.84% Test: 68.84%\n",
            "Epoch: 78, Loss: 1.0255, Train: 71.13%, Valid: 69.81% Test: 68.83%\n",
            "Epoch: 79, Loss: 1.0243, Train: 71.20%, Valid: 69.83% Test: 68.81%\n",
            "Epoch: 80, Loss: 1.0242, Train: 71.28%, Valid: 69.77% Test: 68.79%\n",
            "Epoch: 81, Loss: 1.0206, Train: 71.35%, Valid: 69.74% Test: 68.66%\n",
            "Epoch: 82, Loss: 1.0170, Train: 71.41%, Valid: 69.72% Test: 68.61%\n",
            "Epoch: 83, Loss: 1.0160, Train: 71.43%, Valid: 69.77% Test: 68.63%\n",
            "Epoch: 84, Loss: 1.0157, Train: 71.45%, Valid: 69.71% Test: 68.58%\n",
            "Epoch: 85, Loss: 1.0112, Train: 71.48%, Valid: 69.79% Test: 68.61%\n",
            "Epoch: 86, Loss: 1.0102, Train: 71.48%, Valid: 69.78% Test: 68.53%\n",
            "Epoch: 87, Loss: 1.0099, Train: 71.57%, Valid: 69.76% Test: 68.49%\n",
            "Epoch: 88, Loss: 1.0082, Train: 71.60%, Valid: 69.84% Test: 68.65%\n",
            "Epoch: 89, Loss: 1.0102, Train: 71.67%, Valid: 69.98% Test: 68.91%\n",
            "Epoch: 90, Loss: 1.0032, Train: 71.74%, Valid: 70.01% Test: 69.14%\n",
            "Epoch: 91, Loss: 1.0023, Train: 71.75%, Valid: 70.06% Test: 69.17%\n",
            "Epoch: 92, Loss: 1.0030, Train: 71.79%, Valid: 70.16% Test: 69.21%\n",
            "Epoch: 93, Loss: 1.0003, Train: 71.87%, Valid: 70.25% Test: 69.37%\n",
            "Epoch: 94, Loss: 0.9965, Train: 71.97%, Valid: 70.23% Test: 69.60%\n",
            "Epoch: 95, Loss: 0.9985, Train: 72.01%, Valid: 70.33% Test: 69.70%\n",
            "Epoch: 96, Loss: 0.9963, Train: 72.07%, Valid: 70.37% Test: 69.66%\n",
            "Epoch: 97, Loss: 0.9917, Train: 72.09%, Valid: 70.24% Test: 69.50%\n",
            "Epoch: 98, Loss: 0.9917, Train: 72.07%, Valid: 70.18% Test: 69.43%\n",
            "Epoch: 99, Loss: 0.9895, Train: 72.09%, Valid: 70.16% Test: 69.32%\n",
            "Epoch: 100, Loss: 0.9921, Train: 72.12%, Valid: 70.21% Test: 69.34%\n",
            "Best model: Train: 72.07%, Valid: 70.37% Test: 69.66%\n"
          ]
        }
      ]
    },
    {
      "cell_type": "markdown",
      "metadata": {
        "id": "NrECcOQQSZo1"
      },
      "source": [
        "## Visualization"
      ]
    },
    {
      "cell_type": "code",
      "metadata": {
        "id": "sh_qvSG1SV63",
        "colab": {
          "base_uri": "https://localhost:8080/",
          "height": 458
        },
        "outputId": "b6b7d800-164f-4bd2-b22c-921d9ea6d3d5"
      },
      "source": [
        "import numpy as np\n",
        "from matplotlib import pyplot as plt\n",
        "\n",
        "if 'IS_GRADESCOPE_ENV' not in os.environ:\n",
        "  batch_results = np.array(batch_results)\n",
        "  all_results = np.array(all_results)\n",
        "\n",
        "  x = np.arange(1, 101)\n",
        "\n",
        "  plt.figure(figsize=(9, 7))\n",
        "\n",
        "  plt.plot(x, batch_results[:, 1], label=\"Batch Validation\")\n",
        "  plt.plot(x, batch_results[:, 2], label=\"Batch Test\")\n",
        "  plt.plot(x, all_results[:, 1], label=\"All Validation\")\n",
        "  plt.plot(x, all_results[:, 2], label=\"All Test\")\n",
        "  plt.title('Model Accuracy')\n",
        "  plt.ylabel('Accuracy')\n",
        "  plt.xlabel('Epoch')\n",
        "  plt.legend()\n",
        "  plt.show()"
      ],
      "execution_count": 9,
      "outputs": [
        {
          "output_type": "display_data",
          "data": {
            "image/png": "[encoded data removed]",
            "text/plain": [
              "<Figure size 648x504 with 1 Axes>"
            ]
          },
          "metadata": {
            "needs_background": "light"
          }
        }
      ]
    },
    {
      "cell_type": "markdown",
      "metadata": {
        "id": "WFb2OAvOSn_O"
      },
      "source": [
        "# 2) Neighbor Sampling with Different Ratios\n",
        "\n",
        "Next, we will implement our own simplified version of Neighbor Sampling using DeepSNAP and NetworkX. Then we will use our sampler to train models with different neighborhood sampling ratios and compare their performance.\n",
        "\n",
        "To make our experiments faster, we will use the Cora graph."
      ]
    },
    {
      "cell_type": "markdown",
      "metadata": {
        "id": "P9U0F7bnSz9u"
      },
      "source": [
        "## Setup"
      ]
    },
    {
      "cell_type": "code",
      "metadata": {
        "id": "PUF4on-fSxcq",
        "colab": {
          "base_uri": "https://localhost:8080/"
        },
        "outputId": "9dbffefa-5aec-4fc7-9009-fa2deb0bc92b"
      },
      "source": [
        "import copy\n",
        "import torch\n",
        "import random\n",
        "import numpy as np\n",
        "import networkx as nx\n",
        "import torch.nn as nn\n",
        "import torch.nn.functional as F\n",
        "\n",
        "from torch_geometric.nn import SAGEConv\n",
        "from torch.utils.data import DataLoader\n",
        "from torch_geometric.datasets import Planetoid\n",
        "from torch.nn import Sequential, Linear, ReLU\n",
        "from deepsnap.dataset import GraphDataset\n",
        "from deepsnap.graph import Graph\n",
        "\n",
        "if 'IS_GRADESCOPE_ENV' not in os.environ:\n",
        "  pyg_dataset = Planetoid('./tmp', \"Cora\")"
      ],
      "execution_count": 10,
      "outputs": [
        {
          "output_type": "stream",
          "name": "stderr",
          "text": [
            "Downloading https://github.com/kimiyoung/planetoid/raw/master/data/ind.cora.x\n",
            "Downloading https://github.com/kimiyoung/planetoid/raw/master/data/ind.cora.tx\n",
            "Downloading https://github.com/kimiyoung/planetoid/raw/master/data/ind.cora.allx\n",
            "Downloading https://github.com/kimiyoung/planetoid/raw/master/data/ind.cora.y\n",
            "Downloading https://github.com/kimiyoung/planetoid/raw/master/data/ind.cora.ty\n",
            "Downloading https://github.com/kimiyoung/planetoid/raw/master/data/ind.cora.ally\n",
            "Downloading https://github.com/kimiyoung/planetoid/raw/master/data/ind.cora.graph\n",
            "Downloading https://github.com/kimiyoung/planetoid/raw/master/data/ind.cora.test.index\n",
            "Processing...\n",
            "Done!\n"
          ]
        }
      ]
    },
    {
      "cell_type": "markdown",
      "metadata": {
        "id": "qw6k-KdFTEYw"
      },
      "source": [
        "## GNN Model\n",
        "\n",
        "We use a simple GraphSage GNN model, which we provide to you below. Similar to in section one, notice the slightly different implementations of the forward method depending on the data `mode`. When `mode = \"batch\"` we use Neighbor sampling. Thus, the data parameter contains our graphs node features (`x`) and a list `edge_indeces` containing the connectivity of each GNN layer (i.e. an edge_index for each layer, defining the bipartite neighborhood computation graph). \n",
        "\n",
        "**NOTE:** Refer to sections *Neighbor Sampling* and *PyTorch Geometric Neighbor Sampler* above for a detailed overview of the Neighbor Sampling technique."
      ]
    },
    {
      "cell_type": "code",
      "metadata": {
        "id": "PvUlNi2TS09i"
      },
      "source": [
        "class GNN(torch.nn.Module):\n",
        "    def __init__(self, input_dim, hidden_dim, output_dim, args):\n",
        "        super(GNN, self).__init__()\n",
        "        self.dropout = args['dropout']\n",
        "        self.num_layers = args['num_layers']\n",
        "\n",
        "        self.convs = nn.ModuleList()\n",
        "        self.bns = nn.ModuleList()\n",
        "\n",
        "        self.convs.append(SAGEConv(input_dim, hidden_dim))\n",
        "        self.bns.append(nn.BatchNorm1d(hidden_dim))\n",
        "\n",
        "        for l in range(self.num_layers - 2):\n",
        "            self.convs.append(SAGEConv(hidden_dim, hidden_dim))\n",
        "            self.bns.append(nn.BatchNorm1d(hidden_dim))\n",
        "        self.convs.append(SAGEConv(hidden_dim, hidden_dim))\n",
        "\n",
        "        self.post_mp = nn.Linear(hidden_dim, output_dim)\n",
        "\n",
        "    def forward(self, data, mode=\"batch\"):\n",
        "        # Observe the difference between mode == \"batch\" and mode == \"all\".\n",
        "        # In mode == \"batch\" we pass in an edge index for each conv layer\n",
        "        # corresponding to that layer's bipartite graph structure.\n",
        "        if mode == \"batch\":\n",
        "            edge_indices, x = data\n",
        "            for i in range(len(self.convs) - 1):\n",
        "                edge_index = edge_indices[i]\n",
        "                x = self.convs[i](x, edge_index)\n",
        "                x = self.bns[i](x)\n",
        "                x = F.relu(x)\n",
        "                x = F.dropout(x, p=self.dropout, training=self.training)\n",
        "            x = self.convs[-1](x, edge_indices[len(self.convs) - 1])\n",
        "        else:\n",
        "            x, edge_index = data.node_feature, data.edge_index\n",
        "            for i in range(len(self.convs) - 1):\n",
        "                x = self.convs[i](x, edge_index)\n",
        "                x = self.bns[i](x)\n",
        "                x = F.relu(x)\n",
        "                x = F.dropout(x, p=self.dropout, training=self.training)\n",
        "            x = self.convs[-1](x, edge_index)\n",
        "        x = self.post_mp(x)\n",
        "        x = F.log_softmax(x, dim=1)\n",
        "        return x"
      ],
      "execution_count": 11,
      "outputs": []
    },
    {
      "cell_type": "markdown",
      "metadata": {
        "id": "Ulp1A3evcJ-I"
      },
      "source": [
        "## Implementing Neighbor Sampling\n",
        "\n",
        "Now let's take a stab at implementing our own basic version of Neighbor Sampling using DeepSNAP and NetworkX. To decompose the process, we will define several helper functions before finaling defining our own `neighbor_sampling` function! \n",
        "\n",
        "**NOTE:** Before working through this section, we highly recommend reviewing sections `Neighbor Sampling` and `PyTorch Geometric Neighbor Sampler`. Specifically, it is important to understand how we explicitly define an `edge_index` for each GNN layer, representing the bipartite computation graph connecting the `target_nodes` that we are embedding for that layer to their relavent neighbors from the previous layer needed for message passing. "
      ]
    },
    {
      "cell_type": "markdown",
      "metadata": {
        "id": "VWneVr3_Hj4n"
      },
      "source": [
        "## **Question 2.1a**: Implementing the `sample_neighbors` function. (2.5 points)"
      ]
    },
    {
      "cell_type": "code",
      "metadata": {
        "id": "V1TZXvJhHjRK",
        "colab": {
          "base_uri": "https://localhost:8080/"
        },
        "outputId": "18dc9ea8-9251-436c-8619-20bbc461093d"
      },
      "source": [
        "def sample_neighbors(nodes, G, ratio, all_nodes):\n",
        "    # TODO: Implement a function that takes as input a set of nodes, \n",
        "    # a NetworkX graph G, and a neighbor sampling ratio and returns:\n",
        "    #   1. A set of the sampled nodes\n",
        "    #   2. A set union between `all_nodes` and the newly sampled neighbor nodes.\n",
        "    #      This allows us to track the nodes needed across all message passing layers.\n",
        "    #   3. The set of edges connecting the sampled neighboring nodes to our inpute\n",
        "    #      set of nodes. Represents a bi-partite graph between targets (nodes)\n",
        "    #      and source (neighbor) nodes.\n",
        "\n",
        "    neighbors = set()\n",
        "    edges = []\n",
        "\n",
        "    ############# Your code here ############\n",
        "    ## (~8-10 line of code)\n",
        "    ## Note:\n",
        "    ## 1. You will will need to sample neighbors from each node given to you in \n",
        "    ##    `nodes` list. \n",
        "    ##    Hint: Used graph `G` to assist in obtaining the neighbors of each node. \n",
        "    ## 2. Randomly sample neighbors without replacement (i.e. the same neighbors \n",
        "    ##    should not be selected more than once for a given node) \n",
        "    ## 3. The neighbors are stored in a set data structure to ensure that duplicates\n",
        "    ##    are avoided.  This is useful as the set union will be taken with `all_nodes`. \n",
        "    ## 5. The edges list should contain all edges sampled in the form of a tuple\n",
        "    ##    of (neighbor, node)  \n",
        "    for node in nodes:\n",
        "        neighbors_list = list(nx.neighbors(G, node))   # 1\n",
        "\n",
        "        count = int(len(neighbors_list) * ratio)       # neighbor sampling ratio\n",
        "        if count > 0:\n",
        "            random.shuffle(neighbors_list)             # 2\n",
        "            neighbors_list = neighbors_list[:count]    # neighbor sampling ratio\n",
        "            for neighbor in neighbors_list:\n",
        "                neighbors.add(neighbor)                # 3 \n",
        "                edges.append((neighbor, node))         # 5\n",
        "    \n",
        "    ########################################## \n",
        "    return neighbors, neighbors.union(all_nodes), edges\n",
        "  \n",
        "if 'IS_GRADESCOPE_ENV' not in os.environ:\n",
        "  graphs_train, _, _ = \\\n",
        "      GraphDataset.pyg_to_graphs(pyg_dataset, verbose=True, fixed_split=True)\n",
        "\n",
        "  graph_train = graphs_train[0]\n",
        "\n",
        "  nodes = [15, 16, 17]\n",
        "  neighbors_full, _, _ = sample_neighbors(nodes, graph_train.G, 1, set())\n",
        "  neighbors_sampled, _, _ = sample_neighbors(nodes, graph_train.G, 0.3, set())\n",
        "  print (\"Neighbors with ratio = 1:\", neighbors_full)\n",
        "  print (\"Neighbors with ratio = 0.5:\", neighbors_sampled)\n",
        "  # Note that this is not expected to be 0.3. Since we apply\n",
        "  # our sampling ratio for each node, the number of neighbors\n",
        "  # for each node may not evenly divide by the ratio   \n",
        "  print (\"Ratio of sampled neighbors:\", len(neighbors_sampled) / len(neighbors_full))"
      ],
      "execution_count": 12,
      "outputs": [
        {
          "output_type": "stream",
          "name": "stdout",
          "text": [
            "Index fields: val_mask ignored.\n",
            "Index fields: train_mask ignored.\n",
            "Index fields: test_mask ignored.\n",
            "Neighbors with ratio = 1: {1632, 1090, 1315, 1316, 1093, 970, 2444, 2642, 1271, 927, 24, 2140, 2367}\n",
            "Neighbors with ratio = 0.5: {1632, 1315, 1271}\n",
            "Ratio of sampled neighbors: 0.23076923076923078\n"
          ]
        }
      ]
    },
    {
      "cell_type": "markdown",
      "metadata": {
        "id": "4NKNh4TEJ8_p"
      },
      "source": [
        "## Tensor transformation and node relabeling helper functions. "
      ]
    },
    {
      "cell_type": "code",
      "metadata": {
        "id": "H2PeBMJIJ9Tn"
      },
      "source": [
        "def nodes_to_tensor(nodes):\n",
        "    \"\"\"\n",
        "      Transforms a set of nodes into a node index tensor.\n",
        "    \"\"\"\n",
        "\n",
        "    node_label_index = torch.tensor(list(nodes), dtype=torch.long)\n",
        "    return node_label_index\n",
        "\n",
        "\n",
        "def edges_to_tensor(edges):\n",
        "    \"\"\"\n",
        "      Transforms a list of undirected edges into the corresponding PyG\n",
        "      edge_index tensor representation. Notice that we explicitly make\n",
        "      sure to include both edge directions.  \n",
        "    \"\"\"\n",
        "\n",
        "    edge_index = torch.tensor(list(edges), dtype=torch.long)\n",
        "    edge_index = torch.cat([edge_index, torch.flip(edge_index, [1])], dim=0)\n",
        "    edge_index = edge_index.permute(1, 0)\n",
        "\n",
        "    return edge_index\n",
        "\n",
        "def relabel(nodes, labeled_nodes, edges_list):\n",
        "    \"\"\"\n",
        "      Relabel nodes with 0 based indeces.\n",
        "      \n",
        "      During the sampling process, we are likely to sample a list of\n",
        "      non-continuous node ids. However, our GNN models rely on continuous\n",
        "      0 based indexing to index into the rows of our node features matrix \n",
        "      based on edges in the graph (edge_index)\n",
        "    \"\"\"\n",
        "\n",
        "    relabeled_edges_list = []\n",
        "    sorted_nodes = sorted(nodes)\n",
        "    node_mapping = {node : i for i, node in enumerate(sorted_nodes)}\n",
        "    for orig_edges in edges_list:\n",
        "        relabeled_edges = []\n",
        "        for edge in orig_edges:\n",
        "            relabeled_edges.append((node_mapping[edge[0]], node_mapping[edge[1]]))\n",
        "        relabeled_edges_list.append(relabeled_edges)\n",
        "    relabeled_labeled_nodes = [node_mapping[node] for node in labeled_nodes]\n",
        "    relabeled_nodes = [node_mapping[node] for node in nodes]\n",
        "\n",
        "    return relabeled_edges_list, relabeled_nodes, relabeled_labeled_nodes\n"
      ],
      "execution_count": 13,
      "outputs": []
    },
    {
      "cell_type": "markdown",
      "metadata": {
        "id": "El-2h_ApOJYP"
      },
      "source": [
        "## **Question 2.1b**: Putting it all together - Implementing our own Neighbor Sampling function. (2.5 points)\n",
        "\n",
        "Now that we've developed a better understanding of what the Neighbor Sampling funciton does, we will implement our own version.  Instead of choosing $H_k$ number of samples at each layer, we will use a ratio of the number of neigbors that a givn node has.  Can you think of the pros and cons of using a ratio of the number of neighbors for a node at different layers?  "
      ]
    },
    {
      "cell_type": "code",
      "metadata": {
        "id": "LI4qHkE4cQOh",
        "colab": {
          "base_uri": "https://localhost:8080/"
        },
        "outputId": "542c07f2-c130-4efb-c0e7-ee32baa5b611"
      },
      "source": [
        "def neighbor_sampling(graph, K=2, ratios=(0.1, 0.1, 0.1)):\n",
        "    # TODO: Implement a function that performs Neighbor Sampling on an input\n",
        "    # graph G for a K layer GNN. Notice that len(ratios) = K + 1. Ratios[-1]\n",
        "    # determines size of our mini-batch (i.e. the number of labeled \n",
        "    # nodes we sample computation graphs for). \n",
        "\n",
        "    assert K + 1 == len(ratios)\n",
        "\n",
        "    labeled_nodes = graph.node_label_index.tolist()\n",
        "    random.shuffle(labeled_nodes)\n",
        "    num = int(len(labeled_nodes) * ratios[-1])\n",
        "    if num > 0:\n",
        "        labeled_nodes = labeled_nodes[:num]\n",
        "    nodes_list = [set(labeled_nodes)]\n",
        "    edges_list = []\n",
        "    all_nodes = labeled_nodes\n",
        "\n",
        "    ############# Your code here ############\n",
        "    ## (~4-6 line of code)\n",
        "    ## Note:\n",
        "    ## 1. Using your previously defined `sample_neighbors` function, build up the \n",
        "    ##    nodes_list and edges_list for our K layer network.\n",
        "    ## 2. nodes_list is a list where node_list[i] is set of nodes used for message\n",
        "    ##    passing in layer i+1 of our GNN (i.e. level i in our computation graph).\n",
        "    ##    Notice, node_list[-1] represents the target nodes we want to \n",
        "    ##    embedd in the mini-batch.\n",
        "    ## 3. edge_list is a list of the bi-partite edge conections between layers\n",
        "    ##    in the computation graph.\n",
        "    ## 4. all_nodes is used to track all the nodes needed for message passing.\n",
        "    ## 5. Remember in a GNN, information flows from the base of the computation\n",
        "    ##    graph to the root. How does this affect the way we add to the nodes_list \n",
        "    ##    and edge_list, as well as how we read from ratios (ratios[-1] \n",
        "    ##    represents the root nodes in our computation graph)?\n",
        "    for k in range(K):\n",
        "        curr_layer_nodes = nodes_list[-1]\n",
        "        curr_layer_ratio = ratios[len(ratios) - 1 - k]\n",
        "        nodes, all_nodes, edges = sample_neighbors(\n",
        "            curr_layer_nodes,\n",
        "            graph.G,\n",
        "            curr_layer_ratio,\n",
        "            all_nodes\n",
        "        )\n",
        "        nodes_list.append(nodes)\n",
        "        edges_list.append(edges)\n",
        "    \n",
        "    nodes_list.reverse()\n",
        "    edges_list.reverse()\n",
        "\n",
        "    #########################################\n",
        "\n",
        "    relabled_edges_list, relabeled_all_nodes, relabeled_labeled_nodes = \\\n",
        "        relabel(all_nodes, labeled_nodes, edges_list)\n",
        "\n",
        "    node_index = nodes_to_tensor(relabeled_all_nodes)\n",
        "    # All node features that will be used\n",
        "    node_feature = graph.node_feature[node_index]\n",
        "    edge_indices = [edges_to_tensor(edges) for edges in relabled_edges_list]\n",
        "    node_label_index = nodes_to_tensor(relabeled_labeled_nodes)\n",
        "    log = \"Sampled {} nodes, {} edges, {} labeled nodes\"\n",
        "    print(log.format(node_feature.shape[0], edge_indices[0].shape[1] // 2, node_label_index.shape[0]))\n",
        "    return node_feature, edge_indices, node_label_index\n",
        "\n",
        "if 'IS_GRADESCOPE_ENV' not in os.environ:\n",
        "  # Need to define some basic test! Primarily to test whether they build \n",
        "  # in the correct reverse order. So ideally something like ratio = (0.3, 0.5, 0.8).\n",
        "  # Just need to check shapes.\n",
        "  \n",
        "  graphs_train, _, _ = \\\n",
        "      GraphDataset.pyg_to_graphs(pyg_dataset, verbose=True, fixed_split=True)\n",
        "\n",
        "  graph_train = graphs_train[0]\n",
        "\n",
        "  node_feature, edge_indices, node_label_index = neighbor_sampling(graph_train, K=3, ratios=(1, 1, 1, 1))"
      ],
      "execution_count": 16,
      "outputs": [
        {
          "output_type": "stream",
          "name": "stdout",
          "text": [
            "Index fields: val_mask ignored.\n",
            "Index fields: train_mask ignored.\n",
            "Index fields: test_mask ignored.\n",
            "Sampled 2218 nodes, 7554 edges, 140 labeled nodes\n"
          ]
        }
      ]
    },
    {
      "cell_type": "markdown",
      "metadata": {
        "id": "ooy6Hcf7TIhI"
      },
      "source": [
        "## Training and Testing\n",
        "\n",
        "Additionally, notice that node classification task on Cora is a semi-supervised classification task, here we keep all the labeled training nodes (140 nodes) by setting the last ratio to 1."
      ]
    },
    {
      "cell_type": "code",
      "metadata": {
        "id": "iSmZhpzPTGPY"
      },
      "source": [
        "def train(train_graphs, val_graphs, args, model, optimizer, mode=\"batch\"):\n",
        "    best_val = 0\n",
        "    best_model = None\n",
        "    accs = []\n",
        "    graph_train = train_graphs[0]\n",
        "    graph_train.to(args['device'])\n",
        "    for epoch in range(1, 1 + args['epochs']):\n",
        "        model.train()\n",
        "        optimizer.zero_grad()\n",
        "        if mode == \"batch\":\n",
        "            node_feature, edge_indices, node_label_index = neighbor_sampling(graph_train, args['num_layers'], args['ratios'])\n",
        "            node_feature = node_feature.to(args['device'])\n",
        "            node_label_index = node_label_index.to(args['device'])\n",
        "            for i in range(len(edge_indices)):\n",
        "                edge_indices[i] = edge_indices[i].to(args['device'])\n",
        "            pred = model([edge_indices, node_feature])\n",
        "            pred = pred[node_label_index]\n",
        "            label = graph_train.node_label[node_label_index]\n",
        "        elif mode == \"community\":\n",
        "            graph = random.choice(train_graphs)\n",
        "            graph = graph.to(args['device'])\n",
        "            pred = model(graph, mode=\"all\")\n",
        "            pred = pred[graph.node_label_index]\n",
        "            label = graph.node_label[graph.node_label_index]\n",
        "        else:\n",
        "            pred = model(graph_train, mode=\"all\")\n",
        "            label = graph_train.node_label\n",
        "            pred = pred[graph_train.node_label_index]\n",
        "        loss = F.nll_loss(pred, label)\n",
        "        loss.backward()\n",
        "        optimizer.step()\n",
        "\n",
        "        train_acc, val_acc, test_acc = test(val_graphs, model)\n",
        "        accs.append((train_acc, val_acc, test_acc))\n",
        "        if val_acc > best_val:\n",
        "            best_val = val_acc\n",
        "            best_model = copy.deepcopy(model)\n",
        "        print(f'Epoch: {epoch:02d}, '\n",
        "              f'Loss: {loss:.4f}, '\n",
        "              f'Train: {100 * train_acc:.2f}%, '\n",
        "              f'Valid: {100 * val_acc:.2f}% '\n",
        "              f'Test: {100 * test_acc:.2f}%')\n",
        "    return best_model, accs\n",
        "\n",
        "def test(graphs, model, save_model_results=False, batch_type=\"batch\", title=None):\n",
        "    model.eval()\n",
        "    accs = []\n",
        "  \n",
        "    for graph in graphs:\n",
        "        graph = graph.to(args['device'])\n",
        "        pred = model(graph, mode=\"all\")\n",
        "        label = graph.node_label\n",
        "        pred = pred[graph.node_label_index].max(1)[1]\n",
        "        acc = pred.eq(label).sum().item()\n",
        "        acc /= len(label)\n",
        "        accs.append(acc)\n",
        "    \n",
        "    if save_model_results:\n",
        "      print (\"Saving Model Predictions for Model:\", batch_type, title)\n",
        "\n",
        "      data = {}\n",
        "      # The last dataset we test is the test graph\n",
        "      data['pred'] = pred.view(-1).cpu().detach().numpy()\n",
        "      data['label'] = label.view(-1).cpu().detach().numpy()\n",
        "\n",
        "      df = pd.DataFrame(data=data)\n",
        "      # Save locally as csv\n",
        "      file_name = 'CORA_Node_' + batch_type\n",
        "      if title is not None:\n",
        "        file_name = file_name + \"_\" + title\n",
        "\n",
        "      df.to_csv(file_name + '.csv', sep=',', index=False)\n",
        "\n",
        "    return accs"
      ],
      "execution_count": 17,
      "outputs": []
    },
    {
      "cell_type": "code",
      "metadata": {
        "id": "HV7i0v0ETKzf"
      },
      "source": [
        "args = {\n",
        "    'device': torch.device('cuda' if torch.cuda.is_available() else 'cpu'),\n",
        "    'dropout': 0.5,\n",
        "    'num_layers': 2,\n",
        "    'hidden_size': 64,\n",
        "    'lr': 0.005,\n",
        "    'epochs': 50,\n",
        "    'ratios': (0.8, 0.8, 1),\n",
        "}"
      ],
      "execution_count": 18,
      "outputs": []
    },
    {
      "cell_type": "markdown",
      "metadata": {
        "id": "rLpRYKbnTQnj"
      },
      "source": [
        "## Full-Batch Training\n",
        "\n",
        "As a baseline, we train our GNN model over the entire graph without any Neighbor Sampling."
      ]
    },
    {
      "cell_type": "code",
      "metadata": {
        "id": "pMGGjbJBTOo1",
        "colab": {
          "base_uri": "https://localhost:8080/"
        },
        "outputId": "8a4a1afb-9b40-4e6b-be6f-8a62e8a871da"
      },
      "source": [
        "if 'IS_GRADESCOPE_ENV' not in os.environ:\n",
        "  graphs_train, graphs_val, graphs_test = \\\n",
        "      GraphDataset.pyg_to_graphs(pyg_dataset, verbose=True, fixed_split=True)\n",
        "\n",
        "  graph_train = graphs_train[0]\n",
        "  graph_val = graphs_val[0]\n",
        "  graph_test = graphs_test[0]\n",
        "\n",
        "  model = GNN(graph_train.num_node_features, args['hidden_size'], graph_train.num_node_labels, args).to(args['device'])\n",
        "  optimizer = torch.optim.Adam(model.parameters(), lr=args['lr'])\n",
        "  graphs = [graph_train, graph_val, graph_test]\n",
        "  all_best_model, all_accs = train(graphs, graphs, args, model, optimizer, mode=\"all\")\n",
        "  train_acc, val_acc, test_acc = test([graph_train, graph_val, graph_test], all_best_model)\n",
        "  print('Best model:',\n",
        "        f'Train: {100 * train_acc:.2f}%, '\n",
        "        f'Valid: {100 * val_acc:.2f}% '\n",
        "        f'Test: {100 * test_acc:.2f}%')"
      ],
      "execution_count": 19,
      "outputs": [
        {
          "output_type": "stream",
          "name": "stdout",
          "text": [
            "Index fields: val_mask ignored.\n",
            "Index fields: train_mask ignored.\n",
            "Index fields: test_mask ignored.\n",
            "Epoch: 01, Loss: 2.0650, Train: 28.57%, Valid: 33.00% Test: 33.20%\n",
            "Epoch: 02, Loss: 1.2158, Train: 75.71%, Valid: 40.80% Test: 43.60%\n",
            "Epoch: 03, Loss: 0.7056, Train: 98.57%, Valid: 52.80% Test: 56.70%\n",
            "Epoch: 04, Loss: 0.3618, Train: 99.29%, Valid: 63.80% Test: 64.30%\n",
            "Epoch: 05, Loss: 0.1840, Train: 100.00%, Valid: 69.40% Test: 69.10%\n",
            "Epoch: 06, Loss: 0.0968, Train: 100.00%, Valid: 70.60% Test: 72.70%\n",
            "Epoch: 07, Loss: 0.0601, Train: 100.00%, Valid: 72.20% Test: 74.10%\n",
            "Epoch: 08, Loss: 0.0275, Train: 100.00%, Valid: 73.00% Test: 75.00%\n",
            "Epoch: 09, Loss: 0.0168, Train: 100.00%, Valid: 73.60% Test: 76.20%\n",
            "Epoch: 10, Loss: 0.0105, Train: 100.00%, Valid: 75.00% Test: 75.60%\n",
            "Epoch: 11, Loss: 0.0184, Train: 100.00%, Valid: 74.60% Test: 75.60%\n",
            "Epoch: 12, Loss: 0.0038, Train: 100.00%, Valid: 74.00% Test: 75.70%\n",
            "Epoch: 13, Loss: 0.0044, Train: 100.00%, Valid: 74.20% Test: 75.80%\n",
            "Epoch: 14, Loss: 0.0009, Train: 100.00%, Valid: 74.40% Test: 75.60%\n",
            "Epoch: 15, Loss: 0.0011, Train: 100.00%, Valid: 75.00% Test: 75.40%\n",
            "Epoch: 16, Loss: 0.0010, Train: 100.00%, Valid: 74.40% Test: 74.90%\n",
            "Epoch: 17, Loss: 0.0004, Train: 100.00%, Valid: 74.40% Test: 74.80%\n",
            "Epoch: 18, Loss: 0.0006, Train: 100.00%, Valid: 74.60% Test: 74.90%\n",
            "Epoch: 19, Loss: 0.0014, Train: 100.00%, Valid: 74.40% Test: 75.30%\n",
            "Epoch: 20, Loss: 0.0005, Train: 100.00%, Valid: 74.00% Test: 75.20%\n",
            "Epoch: 21, Loss: 0.0005, Train: 100.00%, Valid: 74.00% Test: 75.40%\n",
            "Epoch: 22, Loss: 0.0004, Train: 100.00%, Valid: 74.20% Test: 75.60%\n",
            "Epoch: 23, Loss: 0.0004, Train: 100.00%, Valid: 73.80% Test: 75.50%\n",
            "Epoch: 24, Loss: 0.0001, Train: 100.00%, Valid: 73.80% Test: 75.70%\n",
            "Epoch: 25, Loss: 0.0009, Train: 100.00%, Valid: 74.20% Test: 75.90%\n",
            "Epoch: 26, Loss: 0.0003, Train: 100.00%, Valid: 74.20% Test: 75.90%\n",
            "Epoch: 27, Loss: 0.0052, Train: 100.00%, Valid: 74.20% Test: 76.00%\n",
            "Epoch: 28, Loss: 0.0001, Train: 100.00%, Valid: 74.40% Test: 76.00%\n",
            "Epoch: 29, Loss: 0.0002, Train: 100.00%, Valid: 74.40% Test: 76.00%\n",
            "Epoch: 30, Loss: 0.0008, Train: 100.00%, Valid: 74.60% Test: 75.90%\n",
            "Epoch: 31, Loss: 0.0005, Train: 100.00%, Valid: 74.20% Test: 75.90%\n",
            "Epoch: 32, Loss: 0.0001, Train: 100.00%, Valid: 74.00% Test: 75.80%\n",
            "Epoch: 33, Loss: 0.0009, Train: 100.00%, Valid: 73.40% Test: 75.80%\n",
            "Epoch: 34, Loss: 0.0005, Train: 100.00%, Valid: 73.80% Test: 75.80%\n",
            "Epoch: 35, Loss: 0.0002, Train: 100.00%, Valid: 73.40% Test: 75.70%\n",
            "Epoch: 36, Loss: 0.0008, Train: 100.00%, Valid: 73.20% Test: 75.60%\n",
            "Epoch: 37, Loss: 0.0021, Train: 100.00%, Valid: 73.20% Test: 75.50%\n",
            "Epoch: 38, Loss: 0.0001, Train: 100.00%, Valid: 73.20% Test: 75.50%\n",
            "Epoch: 39, Loss: 0.0020, Train: 100.00%, Valid: 73.20% Test: 75.20%\n",
            "Epoch: 40, Loss: 0.0002, Train: 100.00%, Valid: 73.00% Test: 75.20%\n",
            "Epoch: 41, Loss: 0.0001, Train: 100.00%, Valid: 73.00% Test: 75.10%\n",
            "Epoch: 42, Loss: 0.0002, Train: 100.00%, Valid: 72.80% Test: 75.10%\n",
            "Epoch: 43, Loss: 0.0009, Train: 100.00%, Valid: 72.80% Test: 75.00%\n",
            "Epoch: 44, Loss: 0.0000, Train: 100.00%, Valid: 73.00% Test: 74.90%\n",
            "Epoch: 45, Loss: 0.0001, Train: 100.00%, Valid: 73.00% Test: 74.90%\n",
            "Epoch: 46, Loss: 0.0000, Train: 100.00%, Valid: 72.40% Test: 74.90%\n",
            "Epoch: 47, Loss: 0.0000, Train: 100.00%, Valid: 72.20% Test: 74.70%\n",
            "Epoch: 48, Loss: 0.0000, Train: 100.00%, Valid: 72.00% Test: 74.70%\n",
            "Epoch: 49, Loss: 0.0000, Train: 100.00%, Valid: 72.00% Test: 74.60%\n",
            "Epoch: 50, Loss: 0.0001, Train: 100.00%, Valid: 72.20% Test: 74.50%\n",
            "Best model: Train: 100.00%, Valid: 75.00% Test: 75.60%\n"
          ]
        }
      ]
    },
    {
      "cell_type": "markdown",
      "metadata": {
        "id": "JWkGiwB6Thr4"
      },
      "source": [
        "## **Question 2.2a:** What is the maximum test accuracy using samping ratios = (0.7, 0.9, 1)? (7.5 points)\n",
        "\n",
        "Running the cell below will show the results of your best model and save your best model's predictions to a file named CORA_Node_batch_(0.7, 0.9, 1).csv'.\n",
        "\n",
        "As we have seen before you can view this file by clicking on the Folder icon on the left side pannel. When you sumbit your assignment, you will have to download this file and attatch it to your submission."
      ]
    },
    {
      "cell_type": "code",
      "metadata": {
        "id": "yWusJ9u3Tfhv",
        "colab": {
          "base_uri": "https://localhost:8080/"
        },
        "outputId": "1c587bec-34c2-47c8-8fa3-b7d26cb62aa7"
      },
      "source": [
        "if 'IS_GRADESCOPE_ENV' not in os.environ:\n",
        "  args['ratios'] = (0.7, 0.9, 1)\n",
        "\n",
        "  graphs_train, graphs_val, graphs_test = \\\n",
        "      GraphDataset.pyg_to_graphs(pyg_dataset, verbose=True, fixed_split=True)\n",
        "\n",
        "  graph_train = graphs_train[0]\n",
        "  graph_val = graphs_val[0]\n",
        "  graph_test = graphs_test[0]\n",
        "\n",
        "  model = GNN(graph_train.num_node_features, args['hidden_size'], graph_train.num_node_labels, args).to(args['device'])\n",
        "  optimizer = torch.optim.Adam(model.parameters(), lr=args['lr'])\n",
        "  graphs = [graph_train, graph_val, graph_test]\n",
        "  batch_best_model, batch_accs = train(graphs, graphs, args, model, optimizer)\n",
        "  train_acc, val_acc, test_acc = test([graph_train, graph_val, graph_test], batch_best_model, save_model_results=True, batch_type=\"batch\", title=\"(0.7,0.9,1)\")\n",
        "  print('Best model:',\n",
        "        f'Train: {100 * train_acc:.2f}%, '\n",
        "        f'Valid: {100 * val_acc:.2f}% '\n",
        "        f'Test: {100 * test_acc:.2f}%')"
      ],
      "execution_count": 20,
      "outputs": [
        {
          "output_type": "stream",
          "name": "stdout",
          "text": [
            "Index fields: val_mask ignored.\n",
            "Index fields: train_mask ignored.\n",
            "Index fields: test_mask ignored.\n",
            "Sampled 1551 nodes, 2773 edges, 140 labeled nodes\n",
            "Epoch: 01, Loss: 2.0338, Train: 39.29%, Valid: 32.40% Test: 34.20%\n",
            "Sampled 1578 nodes, 2773 edges, 140 labeled nodes\n",
            "Epoch: 02, Loss: 1.5971, Train: 68.57%, Valid: 40.20% Test: 42.70%\n",
            "Sampled 1558 nodes, 2773 edges, 140 labeled nodes\n",
            "Epoch: 03, Loss: 1.2954, Train: 85.00%, Valid: 47.80% Test: 50.90%\n",
            "Sampled 1573 nodes, 2773 edges, 140 labeled nodes\n",
            "Epoch: 04, Loss: 1.0535, Train: 92.14%, Valid: 52.00% Test: 51.80%\n",
            "Sampled 1558 nodes, 2773 edges, 140 labeled nodes\n",
            "Epoch: 05, Loss: 0.7544, Train: 94.29%, Valid: 52.40% Test: 54.20%\n",
            "Sampled 1561 nodes, 2773 edges, 140 labeled nodes\n",
            "Epoch: 06, Loss: 0.6413, Train: 95.00%, Valid: 53.60% Test: 55.70%\n",
            "Sampled 1558 nodes, 2773 edges, 140 labeled nodes\n",
            "Epoch: 07, Loss: 0.3814, Train: 96.43%, Valid: 55.00% Test: 56.80%\n",
            "Sampled 1556 nodes, 2773 edges, 140 labeled nodes\n",
            "Epoch: 08, Loss: 0.4239, Train: 97.14%, Valid: 56.00% Test: 57.70%\n",
            "Sampled 1566 nodes, 2773 edges, 140 labeled nodes\n",
            "Epoch: 09, Loss: 0.3195, Train: 97.14%, Valid: 56.60% Test: 58.00%\n",
            "Sampled 1563 nodes, 2773 edges, 140 labeled nodes\n",
            "Epoch: 10, Loss: 0.2227, Train: 98.57%, Valid: 57.00% Test: 58.00%\n",
            "Sampled 1547 nodes, 2773 edges, 140 labeled nodes\n",
            "Epoch: 11, Loss: 0.1501, Train: 99.29%, Valid: 56.40% Test: 58.90%\n",
            "Sampled 1557 nodes, 2773 edges, 140 labeled nodes\n",
            "Epoch: 12, Loss: 0.1127, Train: 99.29%, Valid: 55.80% Test: 58.10%\n",
            "Sampled 1569 nodes, 2773 edges, 140 labeled nodes\n",
            "Epoch: 13, Loss: 0.1043, Train: 99.29%, Valid: 56.60% Test: 58.20%\n",
            "Sampled 1557 nodes, 2773 edges, 140 labeled nodes\n",
            "Epoch: 14, Loss: 0.0561, Train: 99.29%, Valid: 56.80% Test: 57.60%\n",
            "Sampled 1572 nodes, 2773 edges, 140 labeled nodes\n",
            "Epoch: 15, Loss: 0.0434, Train: 99.29%, Valid: 56.40% Test: 57.80%\n",
            "Sampled 1565 nodes, 2773 edges, 140 labeled nodes\n",
            "Epoch: 16, Loss: 0.0443, Train: 99.29%, Valid: 55.60% Test: 58.10%\n",
            "Sampled 1562 nodes, 2773 edges, 140 labeled nodes\n",
            "Epoch: 17, Loss: 0.0514, Train: 99.29%, Valid: 54.60% Test: 58.10%\n",
            "Sampled 1564 nodes, 2773 edges, 140 labeled nodes\n",
            "Epoch: 18, Loss: 0.0384, Train: 99.29%, Valid: 53.20% Test: 57.90%\n",
            "Sampled 1565 nodes, 2773 edges, 140 labeled nodes\n",
            "Epoch: 19, Loss: 0.0779, Train: 100.00%, Valid: 53.20% Test: 57.10%\n",
            "Sampled 1556 nodes, 2773 edges, 140 labeled nodes\n",
            "Epoch: 20, Loss: 0.0419, Train: 100.00%, Valid: 53.60% Test: 57.00%\n",
            "Sampled 1559 nodes, 2773 edges, 140 labeled nodes\n",
            "Epoch: 21, Loss: 0.0162, Train: 100.00%, Valid: 53.20% Test: 56.40%\n",
            "Sampled 1565 nodes, 2773 edges, 140 labeled nodes\n",
            "Epoch: 22, Loss: 0.0209, Train: 100.00%, Valid: 52.40% Test: 56.60%\n",
            "Sampled 1555 nodes, 2773 edges, 140 labeled nodes\n",
            "Epoch: 23, Loss: 0.0180, Train: 100.00%, Valid: 51.80% Test: 56.30%\n",
            "Sampled 1564 nodes, 2773 edges, 140 labeled nodes\n",
            "Epoch: 24, Loss: 0.0090, Train: 100.00%, Valid: 51.20% Test: 56.10%\n",
            "Sampled 1564 nodes, 2773 edges, 140 labeled nodes\n",
            "Epoch: 25, Loss: 0.0168, Train: 100.00%, Valid: 51.00% Test: 55.70%\n",
            "Sampled 1562 nodes, 2773 edges, 140 labeled nodes\n",
            "Epoch: 26, Loss: 0.0238, Train: 100.00%, Valid: 50.80% Test: 55.40%\n",
            "Sampled 1554 nodes, 2773 edges, 140 labeled nodes\n",
            "Epoch: 27, Loss: 0.0591, Train: 100.00%, Valid: 51.40% Test: 55.20%\n",
            "Sampled 1556 nodes, 2773 edges, 140 labeled nodes\n",
            "Epoch: 28, Loss: 0.0174, Train: 100.00%, Valid: 50.80% Test: 55.50%\n",
            "Sampled 1552 nodes, 2773 edges, 140 labeled nodes\n",
            "Epoch: 29, Loss: 0.0263, Train: 100.00%, Valid: 51.00% Test: 55.30%\n",
            "Sampled 1563 nodes, 2773 edges, 140 labeled nodes\n",
            "Epoch: 30, Loss: 0.0466, Train: 100.00%, Valid: 51.20% Test: 54.80%\n",
            "Sampled 1553 nodes, 2773 edges, 140 labeled nodes\n",
            "Epoch: 31, Loss: 0.0104, Train: 100.00%, Valid: 51.00% Test: 54.40%\n",
            "Sampled 1574 nodes, 2773 edges, 140 labeled nodes\n",
            "Epoch: 32, Loss: 0.0142, Train: 100.00%, Valid: 50.20% Test: 54.00%\n",
            "Sampled 1568 nodes, 2773 edges, 140 labeled nodes\n",
            "Epoch: 33, Loss: 0.0290, Train: 100.00%, Valid: 50.60% Test: 53.80%\n",
            "Sampled 1564 nodes, 2773 edges, 140 labeled nodes\n",
            "Epoch: 34, Loss: 0.0044, Train: 100.00%, Valid: 50.20% Test: 53.80%\n",
            "Sampled 1550 nodes, 2773 edges, 140 labeled nodes\n",
            "Epoch: 35, Loss: 0.0260, Train: 100.00%, Valid: 49.80% Test: 53.60%\n",
            "Sampled 1559 nodes, 2773 edges, 140 labeled nodes\n",
            "Epoch: 36, Loss: 0.0245, Train: 100.00%, Valid: 49.80% Test: 53.30%\n",
            "Sampled 1553 nodes, 2773 edges, 140 labeled nodes\n",
            "Epoch: 37, Loss: 0.0424, Train: 100.00%, Valid: 49.60% Test: 53.80%\n",
            "Sampled 1562 nodes, 2773 edges, 140 labeled nodes\n",
            "Epoch: 38, Loss: 0.0158, Train: 100.00%, Valid: 48.80% Test: 53.80%\n",
            "Sampled 1572 nodes, 2773 edges, 140 labeled nodes\n",
            "Epoch: 39, Loss: 0.0217, Train: 100.00%, Valid: 48.20% Test: 53.30%\n",
            "Sampled 1562 nodes, 2773 edges, 140 labeled nodes\n",
            "Epoch: 40, Loss: 0.0157, Train: 100.00%, Valid: 48.40% Test: 53.30%\n",
            "Sampled 1557 nodes, 2773 edges, 140 labeled nodes\n",
            "Epoch: 41, Loss: 0.0137, Train: 100.00%, Valid: 48.40% Test: 53.70%\n",
            "Sampled 1569 nodes, 2773 edges, 140 labeled nodes\n",
            "Epoch: 42, Loss: 0.0028, Train: 100.00%, Valid: 48.20% Test: 53.50%\n",
            "Sampled 1553 nodes, 2773 edges, 140 labeled nodes\n",
            "Epoch: 43, Loss: 0.0510, Train: 100.00%, Valid: 48.20% Test: 53.60%\n",
            "Sampled 1558 nodes, 2773 edges, 140 labeled nodes\n",
            "Epoch: 44, Loss: 0.0243, Train: 100.00%, Valid: 48.60% Test: 53.30%\n",
            "Sampled 1557 nodes, 2773 edges, 140 labeled nodes\n",
            "Epoch: 45, Loss: 0.0049, Train: 100.00%, Valid: 48.80% Test: 53.50%\n",
            "Sampled 1568 nodes, 2773 edges, 140 labeled nodes\n",
            "Epoch: 46, Loss: 0.0458, Train: 100.00%, Valid: 48.80% Test: 53.90%\n",
            "Sampled 1567 nodes, 2773 edges, 140 labeled nodes\n",
            "Epoch: 47, Loss: 0.0021, Train: 100.00%, Valid: 48.60% Test: 54.20%\n",
            "Sampled 1563 nodes, 2773 edges, 140 labeled nodes\n",
            "Epoch: 48, Loss: 0.0655, Train: 100.00%, Valid: 49.20% Test: 54.50%\n",
            "Sampled 1566 nodes, 2773 edges, 140 labeled nodes\n",
            "Epoch: 49, Loss: 0.0078, Train: 100.00%, Valid: 49.00% Test: 54.40%\n",
            "Sampled 1565 nodes, 2773 edges, 140 labeled nodes\n",
            "Epoch: 50, Loss: 0.0146, Train: 100.00%, Valid: 49.20% Test: 54.50%\n",
            "Saving Model Predictions for Model: batch (0.7,0.9,1)\n",
            "Best model: Train: 98.57%, Valid: 57.00% Test: 58.00%\n"
          ]
        }
      ]
    },
    {
      "cell_type": "markdown",
      "metadata": {
        "id": "w_FjkNHDT4c6"
      },
      "source": [
        "## **Question 2.2b:** What is the maximum test accuracy using samping ratios = (0.3, 0.5, 1)? (7.5 points)\n",
        "\n",
        "Running the cell below will show the results of your best model and save your best model's predictions to a file named CORA_Node_batch_(0.3, 0.5, 1).csv'.\n",
        "\n",
        "As we have seen before you can view this file by clicking on the Folder icon on the left side pannel. When you sumbit your assignment, you will have to download this file and attatch it to your submission."
      ]
    },
    {
      "cell_type": "code",
      "metadata": {
        "id": "booJ6DASTjO4",
        "colab": {
          "base_uri": "https://localhost:8080/"
        },
        "outputId": "e8c246eb-1232-4186-891b-aed7f73a9f2c"
      },
      "source": [
        "if 'IS_GRADESCOPE_ENV' not in os.environ:\n",
        "  # Change the ratio to 0.3\n",
        "  args['ratios'] = (0.3, 0.5, 1)\n",
        "\n",
        "  graphs_train, graphs_val, graphs_test = \\\n",
        "      GraphDataset.pyg_to_graphs(pyg_dataset, verbose=True, fixed_split=True)\n",
        "\n",
        "  graph_train = graphs_train[0]\n",
        "  graph_val = graphs_val[0]\n",
        "  graph_test = graphs_test[0]\n",
        "\n",
        "  model = GNN(graph_train.num_node_features, args['hidden_size'], graph_train.num_node_labels, args).to(args['device'])\n",
        "  optimizer = torch.optim.Adam(model.parameters(), lr=args['lr'])\n",
        "  graphs = [graph_train, graph_val, graph_test]\n",
        "  batch_best_model, batch_accs_1 = train(graphs, graphs, args, model, optimizer)\n",
        "  train_acc, val_acc, test_acc = test([graph_train, graph_val, graph_test], batch_best_model, save_model_results=True, batch_type=\"batch\", title=\"(0.3,0.5,1)\")\n",
        "  print('Best model:',\n",
        "        f'Train: {100 * train_acc:.2f}%, '\n",
        "        f'Valid: {100 * val_acc:.2f}% '\n",
        "        f'Test: {100 * test_acc:.2f}%')"
      ],
      "execution_count": 21,
      "outputs": [
        {
          "output_type": "stream",
          "name": "stdout",
          "text": [
            "Index fields: val_mask ignored.\n",
            "Index fields: train_mask ignored.\n",
            "Index fields: test_mask ignored.\n",
            "Sampled 1237 nodes, 1582 edges, 140 labeled nodes\n",
            "Epoch: 01, Loss: 1.9583, Train: 30.71%, Valid: 17.20% Test: 16.50%\n",
            "Sampled 1276 nodes, 1582 edges, 140 labeled nodes\n",
            "Epoch: 02, Loss: 1.6582, Train: 45.71%, Valid: 21.80% Test: 22.90%\n",
            "Sampled 1255 nodes, 1582 edges, 140 labeled nodes\n",
            "Epoch: 03, Loss: 1.3224, Train: 57.14%, Valid: 24.60% Test: 26.50%\n",
            "Sampled 1268 nodes, 1582 edges, 140 labeled nodes\n",
            "Epoch: 04, Loss: 1.0352, Train: 75.71%, Valid: 26.80% Test: 28.20%\n",
            "Sampled 1248 nodes, 1582 edges, 140 labeled nodes\n",
            "Epoch: 05, Loss: 0.8614, Train: 85.71%, Valid: 28.80% Test: 30.10%\n",
            "Sampled 1228 nodes, 1582 edges, 140 labeled nodes\n",
            "Epoch: 06, Loss: 0.6237, Train: 90.00%, Valid: 32.80% Test: 32.30%\n",
            "Sampled 1242 nodes, 1582 edges, 140 labeled nodes\n",
            "Epoch: 07, Loss: 0.4265, Train: 94.29%, Valid: 35.60% Test: 36.20%\n",
            "Sampled 1244 nodes, 1582 edges, 140 labeled nodes\n",
            "Epoch: 08, Loss: 0.3664, Train: 96.43%, Valid: 36.80% Test: 39.40%\n",
            "Sampled 1251 nodes, 1582 edges, 140 labeled nodes\n",
            "Epoch: 09, Loss: 0.2592, Train: 97.14%, Valid: 39.60% Test: 42.10%\n",
            "Sampled 1232 nodes, 1582 edges, 140 labeled nodes\n",
            "Epoch: 10, Loss: 0.2180, Train: 97.14%, Valid: 42.20% Test: 44.00%\n",
            "Sampled 1241 nodes, 1582 edges, 140 labeled nodes\n",
            "Epoch: 11, Loss: 0.1618, Train: 97.14%, Valid: 44.60% Test: 44.70%\n",
            "Sampled 1235 nodes, 1582 edges, 140 labeled nodes\n",
            "Epoch: 12, Loss: 0.1755, Train: 97.14%, Valid: 45.00% Test: 46.20%\n",
            "Sampled 1235 nodes, 1582 edges, 140 labeled nodes\n",
            "Epoch: 13, Loss: 0.1455, Train: 97.14%, Valid: 45.80% Test: 48.00%\n",
            "Sampled 1244 nodes, 1582 edges, 140 labeled nodes\n",
            "Epoch: 14, Loss: 0.1165, Train: 99.29%, Valid: 46.80% Test: 49.10%\n",
            "Sampled 1242 nodes, 1582 edges, 140 labeled nodes\n",
            "Epoch: 15, Loss: 0.0530, Train: 99.29%, Valid: 46.80% Test: 49.90%\n",
            "Sampled 1257 nodes, 1582 edges, 140 labeled nodes\n",
            "Epoch: 16, Loss: 0.0832, Train: 100.00%, Valid: 47.80% Test: 50.80%\n",
            "Sampled 1238 nodes, 1582 edges, 140 labeled nodes\n",
            "Epoch: 17, Loss: 0.0425, Train: 100.00%, Valid: 47.40% Test: 50.80%\n",
            "Sampled 1246 nodes, 1582 edges, 140 labeled nodes\n",
            "Epoch: 18, Loss: 0.0608, Train: 100.00%, Valid: 47.80% Test: 51.10%\n",
            "Sampled 1224 nodes, 1582 edges, 140 labeled nodes\n",
            "Epoch: 19, Loss: 0.0461, Train: 100.00%, Valid: 47.60% Test: 51.00%\n",
            "Sampled 1247 nodes, 1582 edges, 140 labeled nodes\n",
            "Epoch: 20, Loss: 0.0332, Train: 100.00%, Valid: 46.60% Test: 52.20%\n",
            "Sampled 1261 nodes, 1582 edges, 140 labeled nodes\n",
            "Epoch: 21, Loss: 0.0323, Train: 100.00%, Valid: 46.60% Test: 52.10%\n",
            "Sampled 1243 nodes, 1582 edges, 140 labeled nodes\n",
            "Epoch: 22, Loss: 0.0437, Train: 100.00%, Valid: 46.80% Test: 52.20%\n",
            "Sampled 1233 nodes, 1582 edges, 140 labeled nodes\n",
            "Epoch: 23, Loss: 0.0599, Train: 100.00%, Valid: 47.20% Test: 52.30%\n",
            "Sampled 1250 nodes, 1582 edges, 140 labeled nodes\n",
            "Epoch: 24, Loss: 0.0185, Train: 100.00%, Valid: 47.20% Test: 51.70%\n",
            "Sampled 1239 nodes, 1582 edges, 140 labeled nodes\n",
            "Epoch: 25, Loss: 0.0250, Train: 100.00%, Valid: 47.20% Test: 51.80%\n",
            "Sampled 1235 nodes, 1582 edges, 140 labeled nodes\n",
            "Epoch: 26, Loss: 0.0098, Train: 100.00%, Valid: 47.20% Test: 52.00%\n",
            "Sampled 1229 nodes, 1582 edges, 140 labeled nodes\n",
            "Epoch: 27, Loss: 0.0515, Train: 100.00%, Valid: 47.20% Test: 52.10%\n",
            "Sampled 1247 nodes, 1582 edges, 140 labeled nodes\n",
            "Epoch: 28, Loss: 0.0111, Train: 100.00%, Valid: 47.00% Test: 52.00%\n",
            "Sampled 1246 nodes, 1582 edges, 140 labeled nodes\n",
            "Epoch: 29, Loss: 0.0071, Train: 100.00%, Valid: 47.20% Test: 52.10%\n",
            "Sampled 1251 nodes, 1582 edges, 140 labeled nodes\n",
            "Epoch: 30, Loss: 0.0134, Train: 100.00%, Valid: 47.40% Test: 52.10%\n",
            "Sampled 1234 nodes, 1582 edges, 140 labeled nodes\n",
            "Epoch: 31, Loss: 0.0230, Train: 100.00%, Valid: 47.60% Test: 52.10%\n",
            "Sampled 1234 nodes, 1582 edges, 140 labeled nodes\n",
            "Epoch: 32, Loss: 0.0131, Train: 100.00%, Valid: 48.00% Test: 51.90%\n",
            "Sampled 1242 nodes, 1582 edges, 140 labeled nodes\n",
            "Epoch: 33, Loss: 0.0164, Train: 100.00%, Valid: 47.20% Test: 51.40%\n",
            "Sampled 1244 nodes, 1582 edges, 140 labeled nodes\n",
            "Epoch: 34, Loss: 0.0139, Train: 100.00%, Valid: 46.60% Test: 51.60%\n",
            "Sampled 1236 nodes, 1582 edges, 140 labeled nodes\n",
            "Epoch: 35, Loss: 0.0024, Train: 100.00%, Valid: 46.40% Test: 51.20%\n",
            "Sampled 1239 nodes, 1582 edges, 140 labeled nodes\n",
            "Epoch: 36, Loss: 0.0025, Train: 100.00%, Valid: 46.40% Test: 51.30%\n",
            "Sampled 1235 nodes, 1582 edges, 140 labeled nodes\n",
            "Epoch: 37, Loss: 0.0109, Train: 100.00%, Valid: 46.40% Test: 51.30%\n",
            "Sampled 1246 nodes, 1582 edges, 140 labeled nodes\n",
            "Epoch: 38, Loss: 0.0246, Train: 100.00%, Valid: 46.40% Test: 51.00%\n",
            "Sampled 1239 nodes, 1582 edges, 140 labeled nodes\n",
            "Epoch: 39, Loss: 0.0041, Train: 100.00%, Valid: 46.20% Test: 50.80%\n",
            "Sampled 1263 nodes, 1582 edges, 140 labeled nodes\n",
            "Epoch: 40, Loss: 0.0410, Train: 100.00%, Valid: 46.00% Test: 50.80%\n",
            "Sampled 1249 nodes, 1582 edges, 140 labeled nodes\n",
            "Epoch: 41, Loss: 0.0103, Train: 100.00%, Valid: 46.20% Test: 50.50%\n",
            "Sampled 1251 nodes, 1582 edges, 140 labeled nodes\n",
            "Epoch: 42, Loss: 0.0173, Train: 100.00%, Valid: 46.00% Test: 50.90%\n",
            "Sampled 1247 nodes, 1582 edges, 140 labeled nodes\n",
            "Epoch: 43, Loss: 0.0108, Train: 100.00%, Valid: 46.60% Test: 51.20%\n",
            "Sampled 1252 nodes, 1582 edges, 140 labeled nodes\n",
            "Epoch: 44, Loss: 0.0212, Train: 100.00%, Valid: 47.00% Test: 51.00%\n",
            "Sampled 1229 nodes, 1582 edges, 140 labeled nodes\n",
            "Epoch: 45, Loss: 0.0082, Train: 100.00%, Valid: 47.00% Test: 51.20%\n",
            "Sampled 1237 nodes, 1582 edges, 140 labeled nodes\n",
            "Epoch: 46, Loss: 0.0072, Train: 100.00%, Valid: 47.60% Test: 51.00%\n",
            "Sampled 1228 nodes, 1582 edges, 140 labeled nodes\n",
            "Epoch: 47, Loss: 0.0301, Train: 100.00%, Valid: 47.60% Test: 50.80%\n",
            "Sampled 1233 nodes, 1582 edges, 140 labeled nodes\n",
            "Epoch: 48, Loss: 0.0233, Train: 100.00%, Valid: 48.20% Test: 51.30%\n",
            "Sampled 1242 nodes, 1582 edges, 140 labeled nodes\n",
            "Epoch: 49, Loss: 0.0124, Train: 100.00%, Valid: 47.60% Test: 51.60%\n",
            "Sampled 1265 nodes, 1582 edges, 140 labeled nodes\n",
            "Epoch: 50, Loss: 0.0105, Train: 100.00%, Valid: 47.80% Test: 51.70%\n",
            "Saving Model Predictions for Model: batch (0.3,0.5,1)\n",
            "Best model: Train: 100.00%, Valid: 48.20% Test: 51.30%\n"
          ]
        }
      ]
    },
    {
      "cell_type": "markdown",
      "metadata": {
        "id": "EePAvNlGUM2K"
      },
      "source": [
        "## Visualization"
      ]
    },
    {
      "cell_type": "code",
      "metadata": {
        "id": "7etNAkXAT55d",
        "colab": {
          "base_uri": "https://localhost:8080/",
          "height": 458
        },
        "outputId": "7b6eb7ad-924e-48c4-ae8c-d1771fcfda4b"
      },
      "source": [
        "import numpy as np\n",
        "from matplotlib import pyplot as plt\n",
        "\n",
        "if 'IS_GRADESCOPE_ENV' not in os.environ:\n",
        "  batch_results = np.array(batch_accs)\n",
        "  batch_results_1 = np.array(batch_accs_1)\n",
        "  all_results = np.array(all_accs)\n",
        "\n",
        "  x = np.arange(1, 51)\n",
        "\n",
        "  plt.figure(figsize=(9, 7))\n",
        "\n",
        "  plt.plot(x, batch_results[:, 0], label=\"Batch 0.8 Train\")\n",
        "  plt.plot(x, batch_results[:, 1], label=\"Batch 0.8 Validation\")\n",
        "  plt.plot(x, batch_results[:, 2], label=\"Batch 0.8 Test\")\n",
        "  plt.plot(x, batch_results_1[:, 0], label=\"Batch 0.3 Train\")\n",
        "  plt.plot(x, batch_results_1[:, 1], label=\"Batch 0.3 Validation\")\n",
        "  plt.plot(x, batch_results_1[:, 2], label=\"Batch 0.3 Test\")\n",
        "  plt.plot(x, all_results[:, 0], label=\"All Train\")\n",
        "  plt.plot(x, all_results[:, 1], label=\"All Validation\")\n",
        "  plt.plot(x, all_results[:, 2], label=\"All Test\")\n",
        "  plt.title('Model Accuracy')\n",
        "  plt.ylabel('Accuracy')\n",
        "  plt.xlabel('Epoch')\n",
        "  plt.legend()\n",
        "  plt.show()"
      ],
      "execution_count": 22,
      "outputs": [
        {
          "output_type": "display_data",
          "data": {
            "image/png": "[encoded data removed]",
            "text/plain": [
              "<Figure size 648x504 with 1 Axes>"
            ]
          },
          "metadata": {
            "needs_background": "light"
          }
        }
      ]
    },
    {
      "cell_type": "markdown",
      "metadata": {
        "id": "bkA7-0groq7q"
      },
      "source": [
        "**NOTE:** We always evaluate accuracy in full-batch mode. Namely, only during training do we use neighborhood sub-sampling. We do this for a couple reason: 1) fairness of comparison, 2) we worry most about computational cost during training as compared to evaluation, and 3) during the inference phase we want to leverage as much neighborhood information as possible!  "
      ]
    },
    {
      "cell_type": "markdown",
      "metadata": {
        "id": "Iee0U8KGURc8"
      },
      "source": [
        "# 3) Cluster Sampling\n",
        "\n",
        "As discussed in Module 7.2, we can also use subgraph (cluster) sampling to scale up GNN. Specifically, we will explore the methods proposed in Cluster-GCN ([Chiang et al. (2019)](https://arxiv.org/abs/1905.07953)), where we break our graph into smaller subgraphs to avoid the computational cost of training on the entire graph at once.\n",
        "\n",
        "In this final section, we will implement a vanilla Cluster-GCN and experiment with 3 different community partition algorithms.\n",
        "\n",
        "**NOTE:** the code in this section requires that you have run the `Setup`, `GNN Model` and `Training and Testing` cells of section 2."
      ]
    },
    {
      "cell_type": "markdown",
      "metadata": {
        "id": "_BXjP79gUYir"
      },
      "source": [
        "## Setup"
      ]
    },
    {
      "cell_type": "code",
      "metadata": {
        "id": "UGQ_VKp8UOEm"
      },
      "source": [
        "import copy\n",
        "import torch\n",
        "import random\n",
        "import numpy as np\n",
        "import networkx as nx\n",
        "import torch.nn as nn\n",
        "import torch.nn.functional as F\n",
        "import community.community_louvain as community_louvain\n",
        "\n",
        "from torch_geometric.nn import SAGEConv\n",
        "from torch.utils.data import DataLoader\n",
        "from torch_geometric.datasets import Planetoid\n",
        "from torch.nn import Sequential, Linear, ReLU\n",
        "from deepsnap.dataset import GraphDataset\n",
        "from deepsnap.graph import Graph\n",
        "\n",
        "if 'IS_GRADESCOPE_ENV' not in os.environ:   \n",
        "  pyg_dataset = Planetoid('./tmp', \"Cora\")"
      ],
      "execution_count": null,
      "outputs": []
    },
    {
      "cell_type": "code",
      "metadata": {
        "id": "bzMatyCSUaB6"
      },
      "source": [
        "args = {\n",
        "    'device': torch.device('cuda' if torch.cuda.is_available() else 'cpu'),\n",
        "    'dropout': 0.5,\n",
        "    'num_layers': 2,\n",
        "    'hidden_size': 64,\n",
        "    'lr': 0.005,\n",
        "    'epochs': 150,\n",
        "}"
      ],
      "execution_count": null,
      "outputs": []
    },
    {
      "cell_type": "markdown",
      "metadata": {
        "id": "ekV-sokSUeLc"
      },
      "source": [
        "## Partitioning the Graph into Clusters\n",
        "\n",
        "We will experiment with three community detection / partition algorithms to partition our graph into different clusters:\n",
        "* [Kernighan–Lin algorithm (bisection)](https://networkx.org/documentation/stable/reference/algorithms/generated/networkx.algorithms.community.kernighan_lin.kernighan_lin_bisection.html)\n",
        "* [Clauset-Newman-Moore greedy modularity maximization](https://networkx.org/documentation/stable/reference/algorithms/generated/networkx.algorithms.community.modularity_max.greedy_modularity_communities.html#networkx.algorithms.community.modularity_max.greedy_modularity_communities)\n",
        "* [Louvain algorithm](https://python-louvain.readthedocs.io/en/latest/api.html)\n",
        "\n",
        "\n",
        "As a preprocessing step, we partition our graph into a list of seperate subgraphs using one of the three communitiy detection algorithms above. Then during training we iteratively train our vanilla Cluster-GNN model on a randomly selected subgraph, rather than on over the entire graph at once. To make training more stable, we discard any communities that have less than 10 nodes.\n",
        "\n",
        "Let's begin by defining the three partition algorithms."
      ]
    },
    {
      "cell_type": "code",
      "metadata": {
        "id": "N8XeT005UcKh"
      },
      "source": [
        "def partition(G, method=\"louvain\"):\n",
        "    # TODO: Implement a function that takes a Networkx graph G and\n",
        "    # partitions the graph into communities using the specified graph\n",
        "    # partition algorithm.\n",
        "    # \n",
        "    # Return: A list of sets of nodes, one for each community!\n",
        "\n",
        "    communities = None\n",
        "\n",
        "    if method == \"louvain\":\n",
        "        ############# Your code here #############\n",
        "        ## (~9 line of code)\n",
        "        ## Note:\n",
        "        ## 1. Find a community mapping corresponding to the partition of the \n",
        "        ##    graph nodes which maximizes the modularity for the Louvain algorithm. \n",
        "        ##    Set your resolution to 10.\n",
        "        ## 2. Create a mapping of communities to a set of member nodes. \n",
        "        ## 3. Extract the node sets from each community and return \n",
        "        ##    as a list of sets. \n",
        "        ##    Hint: Perhaps a dictionary structure can assist.\n",
        "        ## 4. SET random_state = 8! \n",
        "\n",
        "        pass\n",
        "\n",
        "        ##########################################\n",
        "    elif method == \"bisection\":\n",
        "        ############# Your code here #############\n",
        "        ## (~1 line of code)\n",
        "        ## Note:\n",
        "        ## 1. The Kernigan-Lin algorithm ensures that nodes are partitioned into two \n",
        "        ##    primary communities.  \n",
        "        ## 2. Ensure that the resultant data structure is consistent with expected\n",
        "        ##    output.\n",
        "        ## 3. SET random_state = 8! \n",
        "\n",
        "        pass\n",
        "\n",
        "        ##########################################\n",
        "    elif method == \"greedy\":\n",
        "        ############# Your code here #############\n",
        "        ## (~1 line of code)\n",
        "        ## Note:\n",
        "        ## 1. Clauset-Newman-Moore greedy modularity maximization joins pair \n",
        "        ##    of communities nodes that most increases modularity until no such \n",
        "        ##    pair exists.\n",
        "\n",
        "        pass\n",
        "        \n",
        "        ##########################################\n",
        "\n",
        "    return communities \n",
        "\n",
        "\n",
        "def preprocess(G, node_label_index, method=\"louvain\"):\n",
        "    graphs = []\n",
        "    labeled_nodes = set(node_label_index.tolist())\n",
        "\n",
        "    communities = partition(G, method)\n",
        "\n",
        "    for community in communities:\n",
        "        nodes = set(community)\n",
        "        subgraph = G.subgraph(nodes)\n",
        "        # Make sure each subgraph has more than 10 nodes\n",
        "        if subgraph.number_of_nodes() > 10:\n",
        "            node_mapping = {node : i for i, node in enumerate(subgraph.nodes())}\n",
        "            subgraph = nx.relabel_nodes(subgraph, node_mapping)\n",
        "            # Get the id of the training set labeled node in the new graph\n",
        "            train_label_index = []\n",
        "            for node in labeled_nodes:\n",
        "                if node in node_mapping:\n",
        "                    # Append relabeled labeled node index\n",
        "                    train_label_index.append(node_mapping[node])\n",
        "\n",
        "            # Make sure the subgraph contains at least one training set labeled node\n",
        "            if len(train_label_index) > 0:\n",
        "                dg = Graph(subgraph)\n",
        "                # Update node_label_index\n",
        "                dg.node_label_index = torch.tensor(train_label_index, dtype=torch.long)\n",
        "                graphs.append(dg)\n",
        "    return graphs"
      ],
      "execution_count": null,
      "outputs": []
    },
    {
      "cell_type": "markdown",
      "metadata": {
        "id": "YKrUdkhC1-A3"
      },
      "source": [
        "## Experimenting with different graph partition algorithms\n",
        "\n",
        "We will now experiment with the three graph partition algorithms, using the resulting graph clusters to train our vanilla Cluster-GNN. We will first observe how each parition algorithm partitions the original graph. Then we will compare the perfomance of our vanilla Cluster-GNN trained using the different graph clustering techniques. Lastly, we will compare against training a vanilla GCN over the entire graph (refered to as Full-Batch training).  "
      ]
    },
    {
      "cell_type": "markdown",
      "metadata": {
        "id": "7CYEamCAU-TJ"
      },
      "source": [
        "## **Question 3.1a:** How does the Louvain algorithm partition our graph? (1 points)\n"
      ]
    },
    {
      "cell_type": "code",
      "metadata": {
        "id": "-TrC6ybWU7eO"
      },
      "source": [
        "if 'IS_GRADESCOPE_ENV' not in os.environ:\n",
        "  graphs_train, graphs_val, graphs_test = \\\n",
        "      GraphDataset.pyg_to_graphs(pyg_dataset, verbose=True, fixed_split=True)\n",
        "\n",
        "  graph_train = graphs_train[0]\n",
        "  graph_val = graphs_val[0]\n",
        "  graph_test = graphs_test[0]\n",
        "  graphs = preprocess(graph_train.G, graph_train.node_label_index, method=\"louvain\")\n",
        "  print()\n",
        "  print(\"Partitioning the graph in to {} communities\".format(len(graphs)))\n",
        "  avg_num_nodes = 0\n",
        "  avg_num_edges = 0\n",
        "  for graph in graphs:\n",
        "      avg_num_nodes += graph.num_nodes\n",
        "      avg_num_edges += graph.num_edges\n",
        "  avg_num_nodes = int(avg_num_nodes / len(graphs))\n",
        "  avg_num_edges = int(avg_num_edges / len(graphs))\n",
        "  print(\"Each community has {} nodes in average\".format(avg_num_nodes))\n",
        "  print(\"Each community has {} edges in average\".format(avg_num_edges))"
      ],
      "execution_count": null,
      "outputs": []
    },
    {
      "cell_type": "markdown",
      "metadata": {
        "id": "O03uXIuGVIgJ"
      },
      "source": [
        "## **Question 3.1b:** Using Louvain clustering, what is the maximum test accuracy obtained by your vanilla Cluster-GCN? (4 points)\n"
      ]
    },
    {
      "cell_type": "code",
      "metadata": {
        "id": "iSbGf5ADVFQq"
      },
      "source": [
        "if 'IS_GRADESCOPE_ENV' not in os.environ:\n",
        "  model = GNN(graph_train.num_node_features, args['hidden_size'], graph_train.num_node_labels, args).to(args['device'])\n",
        "  optimizer = torch.optim.Adam(model.parameters(), lr=args['lr'])\n",
        "  louvain_best_model, louvain_accs = train(graphs, [graph_train, graph_val, graph_test], args, model, optimizer, mode=\"community\")\n",
        "  train_acc, val_acc, test_acc = test([graph_train, graph_val, graph_test], louvain_best_model, save_model_results=True, batch_type=\"cluster\", title=\"louvain\")\n",
        "  print('Best model:',\n",
        "        f'Train: {100 * train_acc:.2f}%, '\n",
        "        f'Valid: {100 * val_acc:.2f}% '\n",
        "        f'Test: {100 * test_acc:.2f}%')"
      ],
      "execution_count": null,
      "outputs": []
    },
    {
      "cell_type": "markdown",
      "metadata": {
        "id": "6CvTf0ANVO9U"
      },
      "source": [
        "## **Question 3.2a:** How does the Bisection algorithm partition our graph? (1 points)"
      ]
    },
    {
      "cell_type": "code",
      "metadata": {
        "id": "HkV0zlhgVJ7u"
      },
      "source": [
        "if 'IS_GRADESCOPE_ENV' not in os.environ:\n",
        "  graphs_train, graphs_val, graphs_test = \\\n",
        "      GraphDataset.pyg_to_graphs(pyg_dataset, verbose=True, fixed_split=True)\n",
        "\n",
        "  graph_train = graphs_train[0]\n",
        "  graph_val = graphs_val[0]\n",
        "  graph_test = graphs_test[0]\n",
        "  graphs = preprocess(graph_train.G, graph_train.node_label_index, method=\"bisection\")\n",
        "  print(\"Partition the graph in to {} communities\".format(len(graphs)))\n",
        "  avg_num_nodes = 0\n",
        "  avg_num_edges = 0\n",
        "  for graph in graphs:\n",
        "      avg_num_nodes += graph.num_nodes\n",
        "      avg_num_edges += graph.num_edges\n",
        "  avg_num_nodes = int(avg_num_nodes / len(graphs))\n",
        "  avg_num_edges = int(avg_num_edges / len(graphs))\n",
        "  print(\"Each community has {} nodes in average\".format(avg_num_nodes))\n",
        "  print(\"Each community has {} edges in average\".format(avg_num_edges))"
      ],
      "execution_count": null,
      "outputs": []
    },
    {
      "cell_type": "markdown",
      "metadata": {
        "id": "IqMCvP8wVVms"
      },
      "source": [
        "## **Question 3.2b:** Using the Bisection algorithm to partition the graph, what is the maximum test accuracy obtained by your vanilla Cluster-GCN? (4 points)\n"
      ]
    },
    {
      "cell_type": "code",
      "metadata": {
        "id": "k1wgFg1bVRGY"
      },
      "source": [
        "if 'IS_GRADESCOPE_ENV' not in os.environ:\n",
        "  model = GNN(graph_train.num_node_features, args['hidden_size'], graph_train.num_node_labels, args).to(args['device'])\n",
        "  optimizer = torch.optim.Adam(model.parameters(), lr=args['lr'])\n",
        "  bisection_best_model, bisection_accs = train(graphs, [graph_train, graph_val, graph_test], args, model, optimizer, mode=\"community\")\n",
        "  train_acc, val_acc, test_acc = test([graph_train, graph_val, graph_test], bisection_best_model, save_model_results=True, batch_type=\"cluster\", title=\"bisection\")\n",
        "  print('Best model:',\n",
        "        f'Train: {100 * train_acc:.2f}%, '\n",
        "        f'Valid: {100 * val_acc:.2f}% '\n",
        "        f'Test: {100 * test_acc:.2f}%')"
      ],
      "execution_count": null,
      "outputs": []
    },
    {
      "cell_type": "markdown",
      "metadata": {
        "id": "5PROPwoOVcJy"
      },
      "source": [
        "## **Question 3.3a:** How does Greedy preprocessing partition our graph? (1 points)"
      ]
    },
    {
      "cell_type": "code",
      "metadata": {
        "id": "h3DVamWqVT92"
      },
      "source": [
        "if 'IS_GRADESCOPE_ENV' not in os.environ:\n",
        "  graphs_train, graphs_val, graphs_test = \\\n",
        "      GraphDataset.pyg_to_graphs(pyg_dataset, verbose=True, fixed_split=True)\n",
        "\n",
        "  graph_train = graphs_train[0]\n",
        "  graph_val = graphs_val[0]\n",
        "  graph_test = graphs_test[0]\n",
        "  graphs = preprocess(graph_train.G, graph_train.node_label_index, method=\"greedy\")\n",
        "  print(\"Partition the graph in to {} communities\".format(len(graphs)))\n",
        "  avg_num_nodes = 0\n",
        "  avg_num_edges = 0\n",
        "  for graph in graphs:\n",
        "      avg_num_nodes += graph.num_nodes\n",
        "      avg_num_edges += graph.num_edges\n",
        "  avg_num_nodes = int(avg_num_nodes / len(graphs))\n",
        "  avg_num_edges = int(avg_num_edges / len(graphs))\n",
        "  print(\"Each community has {} nodes in average\".format(avg_num_nodes))\n",
        "  print(\"Each community has {} edges in average\".format(avg_num_edges))"
      ],
      "execution_count": null,
      "outputs": []
    },
    {
      "cell_type": "markdown",
      "metadata": {
        "id": "93pR_-kxVgma"
      },
      "source": [
        "## **Question 3.3b:** Using Greedy preprocessing to partition the graph, what is the maximum test accuracy obtained by your vanilla Cluster-GCN? (4 points)"
      ]
    },
    {
      "cell_type": "code",
      "metadata": {
        "id": "lQgQY-jPVd_U"
      },
      "source": [
        "if 'IS_GRADESCOPE_ENV' not in os.environ: \n",
        "  model = GNN(graph_train.num_node_features, args['hidden_size'], graph_train.num_node_labels, args).to(args['device'])\n",
        "  optimizer = torch.optim.Adam(model.parameters(), lr=args['lr'])\n",
        "  greedy_best_model, greedy_accs = train(graphs, [graph_train, graph_val, graph_test], args, model, optimizer, mode=\"community\")\n",
        "  train_acc, val_acc, test_acc = test([graph_train, graph_val, graph_test], greedy_best_model, save_model_results=True, batch_type=\"cluster\", title=\"greedy\")\n",
        "  print('Best model:',\n",
        "        f'Train: {100 * train_acc:.2f}%, '\n",
        "        f'Valid: {100 * val_acc:.2f}% '\n",
        "        f'Test: {100 * test_acc:.2f}%')"
      ],
      "execution_count": null,
      "outputs": []
    },
    {
      "cell_type": "markdown",
      "metadata": {
        "id": "D5edKKT6Vk1C"
      },
      "source": [
        "## Full-Batch Training"
      ]
    },
    {
      "cell_type": "code",
      "metadata": {
        "id": "N5tIXxC8ViFD"
      },
      "source": [
        "if 'IS_GRADESCOPE_ENV' not in os.environ:\n",
        "  graphs_train, graphs_val, graphs_test = \\\n",
        "      GraphDataset.pyg_to_graphs(pyg_dataset, verbose=True, fixed_split=True)\n",
        "\n",
        "  graph_train = graphs_train[0]\n",
        "  graph_val = graphs_val[0]\n",
        "  graph_test = graphs_test[0]\n",
        "\n",
        "  model = GNN(graph_train.num_node_features, args['hidden_size'], graph_train.num_node_labels, args).to(args['device'])\n",
        "  optimizer = torch.optim.Adam(model.parameters(), lr=args['lr'])\n",
        "  graphs = [graph_train, graph_val, graph_test]\n",
        "  all_best_model, all_accs = train(graphs, graphs, args, model, optimizer, mode=\"all\")\n",
        "  train_acc, val_acc, test_acc = test([graph_train, graph_val, graph_test], all_best_model)\n",
        "  print('Best model:',\n",
        "        f'Train: {100 * train_acc:.2f}%, '\n",
        "        f'Valid: {100 * val_acc:.2f}% '\n",
        "        f'Test: {100 * test_acc:.2f}%')"
      ],
      "execution_count": null,
      "outputs": []
    },
    {
      "cell_type": "markdown",
      "metadata": {
        "id": "6RpuETv7Vpx0"
      },
      "source": [
        "## Visualization"
      ]
    },
    {
      "cell_type": "code",
      "metadata": {
        "id": "PMK33kY5VmF5"
      },
      "source": [
        "import numpy as np\n",
        "from matplotlib import pyplot as plt\n",
        "\n",
        "if 'IS_GRADESCOPE_ENV' not in os.environ:\n",
        "  louvain_results = np.array(louvain_accs)\n",
        "  bisection_results = np.array(bisection_accs)\n",
        "  greedy_results = np.array(greedy_accs)\n",
        "  all_results = np.array(all_accs)\n",
        "\n",
        "  x = np.arange(1, 151)\n",
        "\n",
        "  plt.figure(figsize=(9, 7))\n",
        "\n",
        "  plt.plot(x, louvain_results[:, 1], label=\"Louvain Validation\")\n",
        "  plt.plot(x, louvain_results[:, 2], label=\"Louvain Test\")\n",
        "  plt.plot(x, bisection_results[:, 1], label=\"Bisection Validation\")\n",
        "  plt.plot(x, bisection_results[:, 2], label=\"Bisection Test\")\n",
        "  plt.plot(x, greedy_results[:, 1], label=\"Greedy Validation\")\n",
        "  plt.plot(x, greedy_results[:, 2], label=\"Greedy Test\")\n",
        "  plt.plot(x, all_results[:, 1], label=\"All Validation\")\n",
        "  plt.plot(x, all_results[:, 2], label=\"All Test\")\n",
        "  plt.title('Model Accuracy')\n",
        "  plt.ylabel('Accuracy')\n",
        "  plt.xlabel('Epoch')\n",
        "  plt.legend()\n",
        "  plt.show()"
      ],
      "execution_count": null,
      "outputs": []
    },
    {
      "cell_type": "markdown",
      "metadata": {
        "id": "kfucBiYfVYFF"
      },
      "source": [
        "# Submission\n",
        "\n",
        "You will need to submit three files on Gradescope to complete this notebook. \n",
        "\n",
        "1.   Your completed *XCS224W_Colab5.ipynb*. From the \"File\" menu select \"Download .ipynb\" to save a local copy of your completed Colab. \n",
        "2.  *ogbn-arxiv_batch.csv* \n",
        "3.  *CORA_Node_batch_(0.7,0.9,1).csv*\n",
        "4.  *CORA_Node_batch_(0.3,0.5,1).csv*\n",
        "5.  *CORA_Node_cluster_louvain.csv*\n",
        "6.  *CORA_Node_cluster_greedy.csv*\n",
        "7.  *CORA_Node_cluster_bisection.csv*\n",
        "\n",
        "Download the csv files by selecting the *Folder* icon on the left panel. \n",
        "\n",
        "To submit your work, zip the files downloaded in steps 1-7 above and submit to gradescope. **NOTE:** DO NOT rename any of the downloaded files. "
      ]
    }
  ]
}